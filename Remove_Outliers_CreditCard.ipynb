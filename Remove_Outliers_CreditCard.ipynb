{
 "cells": [
  {
   "cell_type": "markdown",
   "metadata": {},
   "source": [
    "# Find and Remove Outliers in Credit Card Fraud Detection Dataset\n",
    "\n",
    "\n",
    "**Info about data: it is a CSV file, contains 31 features, the last feature is used to classify the transaction whether it is a fraud or not**\n",
    "\n",
    "**Information about data set**\n",
    "\n",
    "The datasets contains transactions made by credit cards in September 2013 by european cardholders. This dataset presents transactions that occurred in two days, where we have 492 frauds out of 284,807 transactions. The dataset is highly unbalanced, the positive class (frauds) account for 0.172% of all transactions.\n",
    "\n",
    "It contains only numerical input variables which are the result of a PCA transformation. Unfortunately, due to confidentiality issues, we cannot provide the original features and more background information about the data. Features V1, V2, ... V28 are the principal components obtained with PCA, the only features which have not been transformed with PCA are 'Time' and 'Amount'. Feature 'Time' contains the seconds elapsed between each transaction and the first transaction in the dataset. The feature 'Amount' is the transaction Amount, this feature can be used for example-dependant cost-senstive learning. **Feature 'Class' is the response variable and it takes value 1 in case of fraud and 0 otherwise.**"
   ]
  },
  {
   "cell_type": "code",
   "execution_count": 1,
   "metadata": {},
   "outputs": [],
   "source": [
    "import pandas as pd\n",
    "import numpy as np\n",
    "import seaborn as sns\n",
    "import matplotlib.pyplot as plt\n",
    "\n",
    "from sklearn.neighbors import LocalOutlierFactor"
   ]
  },
  {
   "cell_type": "code",
   "execution_count": 2,
   "metadata": {},
   "outputs": [],
   "source": [
    "data = pd.read_csv(\"creditcard.csv\")"
   ]
  },
  {
   "cell_type": "code",
   "execution_count": 3,
   "metadata": {},
   "outputs": [
    {
     "data": {
      "text/plain": [
       "(284807, 31)"
      ]
     },
     "execution_count": 3,
     "metadata": {},
     "output_type": "execute_result"
    }
   ],
   "source": [
    "data.shape"
   ]
  },
  {
   "cell_type": "code",
   "execution_count": 4,
   "metadata": {},
   "outputs": [
    {
     "data": {
      "text/html": [
       "<div>\n",
       "<style scoped>\n",
       "    .dataframe tbody tr th:only-of-type {\n",
       "        vertical-align: middle;\n",
       "    }\n",
       "\n",
       "    .dataframe tbody tr th {\n",
       "        vertical-align: top;\n",
       "    }\n",
       "\n",
       "    .dataframe thead th {\n",
       "        text-align: right;\n",
       "    }\n",
       "</style>\n",
       "<table border=\"1\" class=\"dataframe\">\n",
       "  <thead>\n",
       "    <tr style=\"text-align: right;\">\n",
       "      <th></th>\n",
       "      <th>Time</th>\n",
       "      <th>V1</th>\n",
       "      <th>V2</th>\n",
       "      <th>V3</th>\n",
       "      <th>V4</th>\n",
       "      <th>V5</th>\n",
       "      <th>V6</th>\n",
       "      <th>V7</th>\n",
       "      <th>V8</th>\n",
       "      <th>V9</th>\n",
       "      <th>...</th>\n",
       "      <th>V21</th>\n",
       "      <th>V22</th>\n",
       "      <th>V23</th>\n",
       "      <th>V24</th>\n",
       "      <th>V25</th>\n",
       "      <th>V26</th>\n",
       "      <th>V27</th>\n",
       "      <th>V28</th>\n",
       "      <th>Amount</th>\n",
       "      <th>Class</th>\n",
       "    </tr>\n",
       "  </thead>\n",
       "  <tbody>\n",
       "    <tr>\n",
       "      <td>0</td>\n",
       "      <td>0.0</td>\n",
       "      <td>-1.359807</td>\n",
       "      <td>-0.072781</td>\n",
       "      <td>2.536347</td>\n",
       "      <td>1.378155</td>\n",
       "      <td>-0.338321</td>\n",
       "      <td>0.462388</td>\n",
       "      <td>0.239599</td>\n",
       "      <td>0.098698</td>\n",
       "      <td>0.363787</td>\n",
       "      <td>...</td>\n",
       "      <td>-0.018307</td>\n",
       "      <td>0.277838</td>\n",
       "      <td>-0.110474</td>\n",
       "      <td>0.066928</td>\n",
       "      <td>0.128539</td>\n",
       "      <td>-0.189115</td>\n",
       "      <td>0.133558</td>\n",
       "      <td>-0.021053</td>\n",
       "      <td>149.62</td>\n",
       "      <td>0</td>\n",
       "    </tr>\n",
       "    <tr>\n",
       "      <td>1</td>\n",
       "      <td>0.0</td>\n",
       "      <td>1.191857</td>\n",
       "      <td>0.266151</td>\n",
       "      <td>0.166480</td>\n",
       "      <td>0.448154</td>\n",
       "      <td>0.060018</td>\n",
       "      <td>-0.082361</td>\n",
       "      <td>-0.078803</td>\n",
       "      <td>0.085102</td>\n",
       "      <td>-0.255425</td>\n",
       "      <td>...</td>\n",
       "      <td>-0.225775</td>\n",
       "      <td>-0.638672</td>\n",
       "      <td>0.101288</td>\n",
       "      <td>-0.339846</td>\n",
       "      <td>0.167170</td>\n",
       "      <td>0.125895</td>\n",
       "      <td>-0.008983</td>\n",
       "      <td>0.014724</td>\n",
       "      <td>2.69</td>\n",
       "      <td>0</td>\n",
       "    </tr>\n",
       "    <tr>\n",
       "      <td>2</td>\n",
       "      <td>1.0</td>\n",
       "      <td>-1.358354</td>\n",
       "      <td>-1.340163</td>\n",
       "      <td>1.773209</td>\n",
       "      <td>0.379780</td>\n",
       "      <td>-0.503198</td>\n",
       "      <td>1.800499</td>\n",
       "      <td>0.791461</td>\n",
       "      <td>0.247676</td>\n",
       "      <td>-1.514654</td>\n",
       "      <td>...</td>\n",
       "      <td>0.247998</td>\n",
       "      <td>0.771679</td>\n",
       "      <td>0.909412</td>\n",
       "      <td>-0.689281</td>\n",
       "      <td>-0.327642</td>\n",
       "      <td>-0.139097</td>\n",
       "      <td>-0.055353</td>\n",
       "      <td>-0.059752</td>\n",
       "      <td>378.66</td>\n",
       "      <td>0</td>\n",
       "    </tr>\n",
       "    <tr>\n",
       "      <td>3</td>\n",
       "      <td>1.0</td>\n",
       "      <td>-0.966272</td>\n",
       "      <td>-0.185226</td>\n",
       "      <td>1.792993</td>\n",
       "      <td>-0.863291</td>\n",
       "      <td>-0.010309</td>\n",
       "      <td>1.247203</td>\n",
       "      <td>0.237609</td>\n",
       "      <td>0.377436</td>\n",
       "      <td>-1.387024</td>\n",
       "      <td>...</td>\n",
       "      <td>-0.108300</td>\n",
       "      <td>0.005274</td>\n",
       "      <td>-0.190321</td>\n",
       "      <td>-1.175575</td>\n",
       "      <td>0.647376</td>\n",
       "      <td>-0.221929</td>\n",
       "      <td>0.062723</td>\n",
       "      <td>0.061458</td>\n",
       "      <td>123.50</td>\n",
       "      <td>0</td>\n",
       "    </tr>\n",
       "    <tr>\n",
       "      <td>4</td>\n",
       "      <td>2.0</td>\n",
       "      <td>-1.158233</td>\n",
       "      <td>0.877737</td>\n",
       "      <td>1.548718</td>\n",
       "      <td>0.403034</td>\n",
       "      <td>-0.407193</td>\n",
       "      <td>0.095921</td>\n",
       "      <td>0.592941</td>\n",
       "      <td>-0.270533</td>\n",
       "      <td>0.817739</td>\n",
       "      <td>...</td>\n",
       "      <td>-0.009431</td>\n",
       "      <td>0.798278</td>\n",
       "      <td>-0.137458</td>\n",
       "      <td>0.141267</td>\n",
       "      <td>-0.206010</td>\n",
       "      <td>0.502292</td>\n",
       "      <td>0.219422</td>\n",
       "      <td>0.215153</td>\n",
       "      <td>69.99</td>\n",
       "      <td>0</td>\n",
       "    </tr>\n",
       "  </tbody>\n",
       "</table>\n",
       "<p>5 rows × 31 columns</p>\n",
       "</div>"
      ],
      "text/plain": [
       "   Time        V1        V2        V3        V4        V5        V6        V7  \\\n",
       "0   0.0 -1.359807 -0.072781  2.536347  1.378155 -0.338321  0.462388  0.239599   \n",
       "1   0.0  1.191857  0.266151  0.166480  0.448154  0.060018 -0.082361 -0.078803   \n",
       "2   1.0 -1.358354 -1.340163  1.773209  0.379780 -0.503198  1.800499  0.791461   \n",
       "3   1.0 -0.966272 -0.185226  1.792993 -0.863291 -0.010309  1.247203  0.237609   \n",
       "4   2.0 -1.158233  0.877737  1.548718  0.403034 -0.407193  0.095921  0.592941   \n",
       "\n",
       "         V8        V9  ...       V21       V22       V23       V24       V25  \\\n",
       "0  0.098698  0.363787  ... -0.018307  0.277838 -0.110474  0.066928  0.128539   \n",
       "1  0.085102 -0.255425  ... -0.225775 -0.638672  0.101288 -0.339846  0.167170   \n",
       "2  0.247676 -1.514654  ...  0.247998  0.771679  0.909412 -0.689281 -0.327642   \n",
       "3  0.377436 -1.387024  ... -0.108300  0.005274 -0.190321 -1.175575  0.647376   \n",
       "4 -0.270533  0.817739  ... -0.009431  0.798278 -0.137458  0.141267 -0.206010   \n",
       "\n",
       "        V26       V27       V28  Amount  Class  \n",
       "0 -0.189115  0.133558 -0.021053  149.62      0  \n",
       "1  0.125895 -0.008983  0.014724    2.69      0  \n",
       "2 -0.139097 -0.055353 -0.059752  378.66      0  \n",
       "3 -0.221929  0.062723  0.061458  123.50      0  \n",
       "4  0.502292  0.219422  0.215153   69.99      0  \n",
       "\n",
       "[5 rows x 31 columns]"
      ]
     },
     "execution_count": 4,
     "metadata": {},
     "output_type": "execute_result"
    }
   ],
   "source": [
    "data.head()"
   ]
  },
  {
   "cell_type": "code",
   "execution_count": 5,
   "metadata": {},
   "outputs": [],
   "source": [
    "# sampling random 50000 points\n",
    "data_50000 = data.sample(n = 50000)"
   ]
  },
  {
   "cell_type": "code",
   "execution_count": 6,
   "metadata": {},
   "outputs": [
    {
     "data": {
      "text/html": [
       "<div>\n",
       "<style scoped>\n",
       "    .dataframe tbody tr th:only-of-type {\n",
       "        vertical-align: middle;\n",
       "    }\n",
       "\n",
       "    .dataframe tbody tr th {\n",
       "        vertical-align: top;\n",
       "    }\n",
       "\n",
       "    .dataframe thead th {\n",
       "        text-align: right;\n",
       "    }\n",
       "</style>\n",
       "<table border=\"1\" class=\"dataframe\">\n",
       "  <thead>\n",
       "    <tr style=\"text-align: right;\">\n",
       "      <th></th>\n",
       "      <th>Time</th>\n",
       "      <th>V1</th>\n",
       "      <th>V2</th>\n",
       "      <th>V3</th>\n",
       "      <th>V4</th>\n",
       "      <th>V5</th>\n",
       "      <th>V6</th>\n",
       "      <th>V7</th>\n",
       "      <th>V8</th>\n",
       "      <th>V9</th>\n",
       "      <th>...</th>\n",
       "      <th>V21</th>\n",
       "      <th>V22</th>\n",
       "      <th>V23</th>\n",
       "      <th>V24</th>\n",
       "      <th>V25</th>\n",
       "      <th>V26</th>\n",
       "      <th>V27</th>\n",
       "      <th>V28</th>\n",
       "      <th>Amount</th>\n",
       "      <th>Class</th>\n",
       "    </tr>\n",
       "  </thead>\n",
       "  <tbody>\n",
       "    <tr>\n",
       "      <td>127306</td>\n",
       "      <td>78286.0</td>\n",
       "      <td>-1.570460</td>\n",
       "      <td>-0.051664</td>\n",
       "      <td>1.884651</td>\n",
       "      <td>-0.939705</td>\n",
       "      <td>-0.679193</td>\n",
       "      <td>0.141161</td>\n",
       "      <td>-0.543165</td>\n",
       "      <td>1.018808</td>\n",
       "      <td>0.611479</td>\n",
       "      <td>...</td>\n",
       "      <td>-0.042499</td>\n",
       "      <td>-0.286909</td>\n",
       "      <td>0.049376</td>\n",
       "      <td>0.019796</td>\n",
       "      <td>-0.224265</td>\n",
       "      <td>0.814524</td>\n",
       "      <td>0.132949</td>\n",
       "      <td>0.005025</td>\n",
       "      <td>48.95</td>\n",
       "      <td>0</td>\n",
       "    </tr>\n",
       "    <tr>\n",
       "      <td>61919</td>\n",
       "      <td>50049.0</td>\n",
       "      <td>1.077313</td>\n",
       "      <td>0.069079</td>\n",
       "      <td>0.485032</td>\n",
       "      <td>1.345355</td>\n",
       "      <td>-0.263816</td>\n",
       "      <td>0.010919</td>\n",
       "      <td>-0.051173</td>\n",
       "      <td>0.148398</td>\n",
       "      <td>0.109534</td>\n",
       "      <td>...</td>\n",
       "      <td>-0.034452</td>\n",
       "      <td>0.035873</td>\n",
       "      <td>-0.055862</td>\n",
       "      <td>0.216017</td>\n",
       "      <td>0.578927</td>\n",
       "      <td>-0.341847</td>\n",
       "      <td>0.029478</td>\n",
       "      <td>0.009133</td>\n",
       "      <td>23.68</td>\n",
       "      <td>0</td>\n",
       "    </tr>\n",
       "    <tr>\n",
       "      <td>153747</td>\n",
       "      <td>99968.0</td>\n",
       "      <td>-0.551407</td>\n",
       "      <td>1.625713</td>\n",
       "      <td>0.348719</td>\n",
       "      <td>-0.907557</td>\n",
       "      <td>1.845395</td>\n",
       "      <td>-0.483717</td>\n",
       "      <td>2.342642</td>\n",
       "      <td>-1.807167</td>\n",
       "      <td>3.210068</td>\n",
       "      <td>...</td>\n",
       "      <td>-0.312354</td>\n",
       "      <td>1.274172</td>\n",
       "      <td>-0.304756</td>\n",
       "      <td>0.597497</td>\n",
       "      <td>-0.616562</td>\n",
       "      <td>-0.457962</td>\n",
       "      <td>-0.018697</td>\n",
       "      <td>-0.879917</td>\n",
       "      <td>1.29</td>\n",
       "      <td>0</td>\n",
       "    </tr>\n",
       "    <tr>\n",
       "      <td>157216</td>\n",
       "      <td>109715.0</td>\n",
       "      <td>-0.440997</td>\n",
       "      <td>0.818730</td>\n",
       "      <td>1.925260</td>\n",
       "      <td>-0.397963</td>\n",
       "      <td>0.762742</td>\n",
       "      <td>0.518384</td>\n",
       "      <td>0.525002</td>\n",
       "      <td>-0.162991</td>\n",
       "      <td>1.475046</td>\n",
       "      <td>...</td>\n",
       "      <td>-0.353624</td>\n",
       "      <td>-0.588766</td>\n",
       "      <td>-0.346350</td>\n",
       "      <td>-0.060142</td>\n",
       "      <td>0.404193</td>\n",
       "      <td>-0.719609</td>\n",
       "      <td>-0.085553</td>\n",
       "      <td>-0.144571</td>\n",
       "      <td>11.27</td>\n",
       "      <td>0</td>\n",
       "    </tr>\n",
       "    <tr>\n",
       "      <td>44783</td>\n",
       "      <td>42082.0</td>\n",
       "      <td>1.313872</td>\n",
       "      <td>0.328257</td>\n",
       "      <td>-0.291373</td>\n",
       "      <td>0.306360</td>\n",
       "      <td>0.568722</td>\n",
       "      <td>0.216932</td>\n",
       "      <td>0.031462</td>\n",
       "      <td>-0.020081</td>\n",
       "      <td>0.005527</td>\n",
       "      <td>...</td>\n",
       "      <td>-0.343473</td>\n",
       "      <td>-0.908457</td>\n",
       "      <td>-0.022990</td>\n",
       "      <td>-1.346924</td>\n",
       "      <td>0.357107</td>\n",
       "      <td>0.208395</td>\n",
       "      <td>-0.003123</td>\n",
       "      <td>0.014764</td>\n",
       "      <td>0.99</td>\n",
       "      <td>0</td>\n",
       "    </tr>\n",
       "  </tbody>\n",
       "</table>\n",
       "<p>5 rows × 31 columns</p>\n",
       "</div>"
      ],
      "text/plain": [
       "            Time        V1        V2        V3        V4        V5        V6  \\\n",
       "127306   78286.0 -1.570460 -0.051664  1.884651 -0.939705 -0.679193  0.141161   \n",
       "61919    50049.0  1.077313  0.069079  0.485032  1.345355 -0.263816  0.010919   \n",
       "153747   99968.0 -0.551407  1.625713  0.348719 -0.907557  1.845395 -0.483717   \n",
       "157216  109715.0 -0.440997  0.818730  1.925260 -0.397963  0.762742  0.518384   \n",
       "44783    42082.0  1.313872  0.328257 -0.291373  0.306360  0.568722  0.216932   \n",
       "\n",
       "              V7        V8        V9  ...       V21       V22       V23  \\\n",
       "127306 -0.543165  1.018808  0.611479  ... -0.042499 -0.286909  0.049376   \n",
       "61919  -0.051173  0.148398  0.109534  ... -0.034452  0.035873 -0.055862   \n",
       "153747  2.342642 -1.807167  3.210068  ... -0.312354  1.274172 -0.304756   \n",
       "157216  0.525002 -0.162991  1.475046  ... -0.353624 -0.588766 -0.346350   \n",
       "44783   0.031462 -0.020081  0.005527  ... -0.343473 -0.908457 -0.022990   \n",
       "\n",
       "             V24       V25       V26       V27       V28  Amount  Class  \n",
       "127306  0.019796 -0.224265  0.814524  0.132949  0.005025   48.95      0  \n",
       "61919   0.216017  0.578927 -0.341847  0.029478  0.009133   23.68      0  \n",
       "153747  0.597497 -0.616562 -0.457962 -0.018697 -0.879917    1.29      0  \n",
       "157216 -0.060142  0.404193 -0.719609 -0.085553 -0.144571   11.27      0  \n",
       "44783  -1.346924  0.357107  0.208395 -0.003123  0.014764    0.99      0  \n",
       "\n",
       "[5 rows x 31 columns]"
      ]
     },
     "execution_count": 6,
     "metadata": {},
     "output_type": "execute_result"
    }
   ],
   "source": [
    "data_50000.head()"
   ]
  },
  {
   "cell_type": "code",
   "execution_count": 7,
   "metadata": {},
   "outputs": [],
   "source": [
    "data_50000.to_csv(\"NewCreditCard.csv\")"
   ]
  },
  {
   "cell_type": "markdown",
   "metadata": {},
   "source": [
    "### Detecting outliers for 'k' value 2\n",
    "\n",
    "#### We have assumed that 50% of total points in our data set are outliers."
   ]
  },
  {
   "cell_type": "code",
   "execution_count": 8,
   "metadata": {},
   "outputs": [],
   "source": [
    "newData = pd.read_csv(\"NewCreditCard.csv\")"
   ]
  },
  {
   "cell_type": "code",
   "execution_count": 9,
   "metadata": {},
   "outputs": [
    {
     "data": {
      "text/html": [
       "<div>\n",
       "<style scoped>\n",
       "    .dataframe tbody tr th:only-of-type {\n",
       "        vertical-align: middle;\n",
       "    }\n",
       "\n",
       "    .dataframe tbody tr th {\n",
       "        vertical-align: top;\n",
       "    }\n",
       "\n",
       "    .dataframe thead th {\n",
       "        text-align: right;\n",
       "    }\n",
       "</style>\n",
       "<table border=\"1\" class=\"dataframe\">\n",
       "  <thead>\n",
       "    <tr style=\"text-align: right;\">\n",
       "      <th></th>\n",
       "      <th>Unnamed: 0</th>\n",
       "      <th>Time</th>\n",
       "      <th>V1</th>\n",
       "      <th>V2</th>\n",
       "      <th>V3</th>\n",
       "      <th>V4</th>\n",
       "      <th>V5</th>\n",
       "      <th>V6</th>\n",
       "      <th>V7</th>\n",
       "      <th>V8</th>\n",
       "      <th>...</th>\n",
       "      <th>V21</th>\n",
       "      <th>V22</th>\n",
       "      <th>V23</th>\n",
       "      <th>V24</th>\n",
       "      <th>V25</th>\n",
       "      <th>V26</th>\n",
       "      <th>V27</th>\n",
       "      <th>V28</th>\n",
       "      <th>Amount</th>\n",
       "      <th>Class</th>\n",
       "    </tr>\n",
       "  </thead>\n",
       "  <tbody>\n",
       "    <tr>\n",
       "      <td>0</td>\n",
       "      <td>127306</td>\n",
       "      <td>78286.0</td>\n",
       "      <td>-1.570460</td>\n",
       "      <td>-0.051664</td>\n",
       "      <td>1.884651</td>\n",
       "      <td>-0.939705</td>\n",
       "      <td>-0.679193</td>\n",
       "      <td>0.141161</td>\n",
       "      <td>-0.543165</td>\n",
       "      <td>1.018808</td>\n",
       "      <td>...</td>\n",
       "      <td>-0.042499</td>\n",
       "      <td>-0.286909</td>\n",
       "      <td>0.049376</td>\n",
       "      <td>0.019796</td>\n",
       "      <td>-0.224265</td>\n",
       "      <td>0.814524</td>\n",
       "      <td>0.132949</td>\n",
       "      <td>0.005025</td>\n",
       "      <td>48.95</td>\n",
       "      <td>0</td>\n",
       "    </tr>\n",
       "    <tr>\n",
       "      <td>1</td>\n",
       "      <td>61919</td>\n",
       "      <td>50049.0</td>\n",
       "      <td>1.077313</td>\n",
       "      <td>0.069079</td>\n",
       "      <td>0.485032</td>\n",
       "      <td>1.345355</td>\n",
       "      <td>-0.263816</td>\n",
       "      <td>0.010919</td>\n",
       "      <td>-0.051173</td>\n",
       "      <td>0.148398</td>\n",
       "      <td>...</td>\n",
       "      <td>-0.034452</td>\n",
       "      <td>0.035873</td>\n",
       "      <td>-0.055862</td>\n",
       "      <td>0.216017</td>\n",
       "      <td>0.578927</td>\n",
       "      <td>-0.341847</td>\n",
       "      <td>0.029478</td>\n",
       "      <td>0.009133</td>\n",
       "      <td>23.68</td>\n",
       "      <td>0</td>\n",
       "    </tr>\n",
       "    <tr>\n",
       "      <td>2</td>\n",
       "      <td>153747</td>\n",
       "      <td>99968.0</td>\n",
       "      <td>-0.551407</td>\n",
       "      <td>1.625713</td>\n",
       "      <td>0.348719</td>\n",
       "      <td>-0.907557</td>\n",
       "      <td>1.845395</td>\n",
       "      <td>-0.483717</td>\n",
       "      <td>2.342642</td>\n",
       "      <td>-1.807167</td>\n",
       "      <td>...</td>\n",
       "      <td>-0.312354</td>\n",
       "      <td>1.274172</td>\n",
       "      <td>-0.304756</td>\n",
       "      <td>0.597497</td>\n",
       "      <td>-0.616562</td>\n",
       "      <td>-0.457962</td>\n",
       "      <td>-0.018697</td>\n",
       "      <td>-0.879917</td>\n",
       "      <td>1.29</td>\n",
       "      <td>0</td>\n",
       "    </tr>\n",
       "    <tr>\n",
       "      <td>3</td>\n",
       "      <td>157216</td>\n",
       "      <td>109715.0</td>\n",
       "      <td>-0.440997</td>\n",
       "      <td>0.818730</td>\n",
       "      <td>1.925260</td>\n",
       "      <td>-0.397963</td>\n",
       "      <td>0.762742</td>\n",
       "      <td>0.518384</td>\n",
       "      <td>0.525002</td>\n",
       "      <td>-0.162991</td>\n",
       "      <td>...</td>\n",
       "      <td>-0.353624</td>\n",
       "      <td>-0.588766</td>\n",
       "      <td>-0.346350</td>\n",
       "      <td>-0.060142</td>\n",
       "      <td>0.404193</td>\n",
       "      <td>-0.719609</td>\n",
       "      <td>-0.085553</td>\n",
       "      <td>-0.144571</td>\n",
       "      <td>11.27</td>\n",
       "      <td>0</td>\n",
       "    </tr>\n",
       "    <tr>\n",
       "      <td>4</td>\n",
       "      <td>44783</td>\n",
       "      <td>42082.0</td>\n",
       "      <td>1.313872</td>\n",
       "      <td>0.328257</td>\n",
       "      <td>-0.291373</td>\n",
       "      <td>0.306360</td>\n",
       "      <td>0.568722</td>\n",
       "      <td>0.216932</td>\n",
       "      <td>0.031462</td>\n",
       "      <td>-0.020081</td>\n",
       "      <td>...</td>\n",
       "      <td>-0.343473</td>\n",
       "      <td>-0.908457</td>\n",
       "      <td>-0.022990</td>\n",
       "      <td>-1.346924</td>\n",
       "      <td>0.357107</td>\n",
       "      <td>0.208395</td>\n",
       "      <td>-0.003123</td>\n",
       "      <td>0.014764</td>\n",
       "      <td>0.99</td>\n",
       "      <td>0</td>\n",
       "    </tr>\n",
       "  </tbody>\n",
       "</table>\n",
       "<p>5 rows × 32 columns</p>\n",
       "</div>"
      ],
      "text/plain": [
       "   Unnamed: 0      Time        V1        V2        V3        V4        V5  \\\n",
       "0      127306   78286.0 -1.570460 -0.051664  1.884651 -0.939705 -0.679193   \n",
       "1       61919   50049.0  1.077313  0.069079  0.485032  1.345355 -0.263816   \n",
       "2      153747   99968.0 -0.551407  1.625713  0.348719 -0.907557  1.845395   \n",
       "3      157216  109715.0 -0.440997  0.818730  1.925260 -0.397963  0.762742   \n",
       "4       44783   42082.0  1.313872  0.328257 -0.291373  0.306360  0.568722   \n",
       "\n",
       "         V6        V7        V8  ...       V21       V22       V23       V24  \\\n",
       "0  0.141161 -0.543165  1.018808  ... -0.042499 -0.286909  0.049376  0.019796   \n",
       "1  0.010919 -0.051173  0.148398  ... -0.034452  0.035873 -0.055862  0.216017   \n",
       "2 -0.483717  2.342642 -1.807167  ... -0.312354  1.274172 -0.304756  0.597497   \n",
       "3  0.518384  0.525002 -0.162991  ... -0.353624 -0.588766 -0.346350 -0.060142   \n",
       "4  0.216932  0.031462 -0.020081  ... -0.343473 -0.908457 -0.022990 -1.346924   \n",
       "\n",
       "        V25       V26       V27       V28  Amount  Class  \n",
       "0 -0.224265  0.814524  0.132949  0.005025   48.95      0  \n",
       "1  0.578927 -0.341847  0.029478  0.009133   23.68      0  \n",
       "2 -0.616562 -0.457962 -0.018697 -0.879917    1.29      0  \n",
       "3  0.404193 -0.719609 -0.085553 -0.144571   11.27      0  \n",
       "4  0.357107  0.208395 -0.003123  0.014764    0.99      0  \n",
       "\n",
       "[5 rows x 32 columns]"
      ]
     },
     "execution_count": 9,
     "metadata": {},
     "output_type": "execute_result"
    }
   ],
   "source": [
    "newData.head()"
   ]
  },
  {
   "cell_type": "code",
   "execution_count": 10,
   "metadata": {},
   "outputs": [],
   "source": [
    "FinalData = newData.drop(\"Unnamed: 0\", axis = 1)"
   ]
  },
  {
   "cell_type": "code",
   "execution_count": 11,
   "metadata": {},
   "outputs": [
    {
     "data": {
      "text/html": [
       "<div>\n",
       "<style scoped>\n",
       "    .dataframe tbody tr th:only-of-type {\n",
       "        vertical-align: middle;\n",
       "    }\n",
       "\n",
       "    .dataframe tbody tr th {\n",
       "        vertical-align: top;\n",
       "    }\n",
       "\n",
       "    .dataframe thead th {\n",
       "        text-align: right;\n",
       "    }\n",
       "</style>\n",
       "<table border=\"1\" class=\"dataframe\">\n",
       "  <thead>\n",
       "    <tr style=\"text-align: right;\">\n",
       "      <th></th>\n",
       "      <th>Time</th>\n",
       "      <th>V1</th>\n",
       "      <th>V2</th>\n",
       "      <th>V3</th>\n",
       "      <th>V4</th>\n",
       "      <th>V5</th>\n",
       "      <th>V6</th>\n",
       "      <th>V7</th>\n",
       "      <th>V8</th>\n",
       "      <th>V9</th>\n",
       "      <th>...</th>\n",
       "      <th>V21</th>\n",
       "      <th>V22</th>\n",
       "      <th>V23</th>\n",
       "      <th>V24</th>\n",
       "      <th>V25</th>\n",
       "      <th>V26</th>\n",
       "      <th>V27</th>\n",
       "      <th>V28</th>\n",
       "      <th>Amount</th>\n",
       "      <th>Class</th>\n",
       "    </tr>\n",
       "  </thead>\n",
       "  <tbody>\n",
       "    <tr>\n",
       "      <td>0</td>\n",
       "      <td>78286.0</td>\n",
       "      <td>-1.570460</td>\n",
       "      <td>-0.051664</td>\n",
       "      <td>1.884651</td>\n",
       "      <td>-0.939705</td>\n",
       "      <td>-0.679193</td>\n",
       "      <td>0.141161</td>\n",
       "      <td>-0.543165</td>\n",
       "      <td>1.018808</td>\n",
       "      <td>0.611479</td>\n",
       "      <td>...</td>\n",
       "      <td>-0.042499</td>\n",
       "      <td>-0.286909</td>\n",
       "      <td>0.049376</td>\n",
       "      <td>0.019796</td>\n",
       "      <td>-0.224265</td>\n",
       "      <td>0.814524</td>\n",
       "      <td>0.132949</td>\n",
       "      <td>0.005025</td>\n",
       "      <td>48.95</td>\n",
       "      <td>0</td>\n",
       "    </tr>\n",
       "    <tr>\n",
       "      <td>1</td>\n",
       "      <td>50049.0</td>\n",
       "      <td>1.077313</td>\n",
       "      <td>0.069079</td>\n",
       "      <td>0.485032</td>\n",
       "      <td>1.345355</td>\n",
       "      <td>-0.263816</td>\n",
       "      <td>0.010919</td>\n",
       "      <td>-0.051173</td>\n",
       "      <td>0.148398</td>\n",
       "      <td>0.109534</td>\n",
       "      <td>...</td>\n",
       "      <td>-0.034452</td>\n",
       "      <td>0.035873</td>\n",
       "      <td>-0.055862</td>\n",
       "      <td>0.216017</td>\n",
       "      <td>0.578927</td>\n",
       "      <td>-0.341847</td>\n",
       "      <td>0.029478</td>\n",
       "      <td>0.009133</td>\n",
       "      <td>23.68</td>\n",
       "      <td>0</td>\n",
       "    </tr>\n",
       "    <tr>\n",
       "      <td>2</td>\n",
       "      <td>99968.0</td>\n",
       "      <td>-0.551407</td>\n",
       "      <td>1.625713</td>\n",
       "      <td>0.348719</td>\n",
       "      <td>-0.907557</td>\n",
       "      <td>1.845395</td>\n",
       "      <td>-0.483717</td>\n",
       "      <td>2.342642</td>\n",
       "      <td>-1.807167</td>\n",
       "      <td>3.210068</td>\n",
       "      <td>...</td>\n",
       "      <td>-0.312354</td>\n",
       "      <td>1.274172</td>\n",
       "      <td>-0.304756</td>\n",
       "      <td>0.597497</td>\n",
       "      <td>-0.616562</td>\n",
       "      <td>-0.457962</td>\n",
       "      <td>-0.018697</td>\n",
       "      <td>-0.879917</td>\n",
       "      <td>1.29</td>\n",
       "      <td>0</td>\n",
       "    </tr>\n",
       "    <tr>\n",
       "      <td>3</td>\n",
       "      <td>109715.0</td>\n",
       "      <td>-0.440997</td>\n",
       "      <td>0.818730</td>\n",
       "      <td>1.925260</td>\n",
       "      <td>-0.397963</td>\n",
       "      <td>0.762742</td>\n",
       "      <td>0.518384</td>\n",
       "      <td>0.525002</td>\n",
       "      <td>-0.162991</td>\n",
       "      <td>1.475046</td>\n",
       "      <td>...</td>\n",
       "      <td>-0.353624</td>\n",
       "      <td>-0.588766</td>\n",
       "      <td>-0.346350</td>\n",
       "      <td>-0.060142</td>\n",
       "      <td>0.404193</td>\n",
       "      <td>-0.719609</td>\n",
       "      <td>-0.085553</td>\n",
       "      <td>-0.144571</td>\n",
       "      <td>11.27</td>\n",
       "      <td>0</td>\n",
       "    </tr>\n",
       "    <tr>\n",
       "      <td>4</td>\n",
       "      <td>42082.0</td>\n",
       "      <td>1.313872</td>\n",
       "      <td>0.328257</td>\n",
       "      <td>-0.291373</td>\n",
       "      <td>0.306360</td>\n",
       "      <td>0.568722</td>\n",
       "      <td>0.216932</td>\n",
       "      <td>0.031462</td>\n",
       "      <td>-0.020081</td>\n",
       "      <td>0.005527</td>\n",
       "      <td>...</td>\n",
       "      <td>-0.343473</td>\n",
       "      <td>-0.908457</td>\n",
       "      <td>-0.022990</td>\n",
       "      <td>-1.346924</td>\n",
       "      <td>0.357107</td>\n",
       "      <td>0.208395</td>\n",
       "      <td>-0.003123</td>\n",
       "      <td>0.014764</td>\n",
       "      <td>0.99</td>\n",
       "      <td>0</td>\n",
       "    </tr>\n",
       "  </tbody>\n",
       "</table>\n",
       "<p>5 rows × 31 columns</p>\n",
       "</div>"
      ],
      "text/plain": [
       "       Time        V1        V2        V3        V4        V5        V6  \\\n",
       "0   78286.0 -1.570460 -0.051664  1.884651 -0.939705 -0.679193  0.141161   \n",
       "1   50049.0  1.077313  0.069079  0.485032  1.345355 -0.263816  0.010919   \n",
       "2   99968.0 -0.551407  1.625713  0.348719 -0.907557  1.845395 -0.483717   \n",
       "3  109715.0 -0.440997  0.818730  1.925260 -0.397963  0.762742  0.518384   \n",
       "4   42082.0  1.313872  0.328257 -0.291373  0.306360  0.568722  0.216932   \n",
       "\n",
       "         V7        V8        V9  ...       V21       V22       V23       V24  \\\n",
       "0 -0.543165  1.018808  0.611479  ... -0.042499 -0.286909  0.049376  0.019796   \n",
       "1 -0.051173  0.148398  0.109534  ... -0.034452  0.035873 -0.055862  0.216017   \n",
       "2  2.342642 -1.807167  3.210068  ... -0.312354  1.274172 -0.304756  0.597497   \n",
       "3  0.525002 -0.162991  1.475046  ... -0.353624 -0.588766 -0.346350 -0.060142   \n",
       "4  0.031462 -0.020081  0.005527  ... -0.343473 -0.908457 -0.022990 -1.346924   \n",
       "\n",
       "        V25       V26       V27       V28  Amount  Class  \n",
       "0 -0.224265  0.814524  0.132949  0.005025   48.95      0  \n",
       "1  0.578927 -0.341847  0.029478  0.009133   23.68      0  \n",
       "2 -0.616562 -0.457962 -0.018697 -0.879917    1.29      0  \n",
       "3  0.404193 -0.719609 -0.085553 -0.144571   11.27      0  \n",
       "4  0.357107  0.208395 -0.003123  0.014764    0.99      0  \n",
       "\n",
       "[5 rows x 31 columns]"
      ]
     },
     "execution_count": 11,
     "metadata": {},
     "output_type": "execute_result"
    }
   ],
   "source": [
    "FinalData.head()"
   ]
  },
  {
   "cell_type": "code",
   "execution_count": 12,
   "metadata": {},
   "outputs": [
    {
     "data": {
      "text/plain": [
       "(50000, 31)"
      ]
     },
     "execution_count": 12,
     "metadata": {},
     "output_type": "execute_result"
    }
   ],
   "source": [
    "FinalData.shape"
   ]
  },
  {
   "cell_type": "code",
   "execution_count": 13,
   "metadata": {},
   "outputs": [
    {
     "data": {
      "text/plain": [
       "array([-1,  1, -1, ...,  1,  1, -1])"
      ]
     },
     "execution_count": 13,
     "metadata": {},
     "output_type": "execute_result"
    }
   ],
   "source": [
    "lof = LocalOutlierFactor(n_neighbors=2, algorithm='auto', metric='minkowski', p=2, metric_params=None, contamination=0.5, n_jobs=1)\n",
    "\n",
    "outlierArray = lof.fit_predict(FinalData)\n",
    "\n",
    "outlierArray"
   ]
  },
  {
   "cell_type": "markdown",
   "metadata": {},
   "source": [
    "**Here, we got an array, where row corresponding to array element 1 in our dataset is an inlier and row corresponding to array element to -1 in our dataset is an oulier**"
   ]
  },
  {
   "cell_type": "code",
   "execution_count": 14,
   "metadata": {},
   "outputs": [
    {
     "data": {
      "text/plain": [
       "50000"
      ]
     },
     "execution_count": 14,
     "metadata": {},
     "output_type": "execute_result"
    }
   ],
   "source": [
    "len(outlierArray)"
   ]
  },
  {
   "cell_type": "markdown",
   "metadata": {},
   "source": [
    "**Calculating total number of outlier and inliers**"
   ]
  },
  {
   "cell_type": "code",
   "execution_count": 15,
   "metadata": {},
   "outputs": [
    {
     "name": "stdout",
     "output_type": "stream",
     "text": [
      "Total number of outliers = 25000\n",
      "Total number of inliers = 25000\n"
     ]
    }
   ],
   "source": [
    "countOutliers = 0\n",
    "countInliers = 0\n",
    "for i in range(50000):\n",
    "    if outlierArray[i] == -1:\n",
    "        countOutliers += 1\n",
    "    else:\n",
    "        countInliers += 1\n",
    "print(\"Total number of outliers = \"+str(countOutliers))\n",
    "print(\"Total number of inliers = \"+str(countInliers))"
   ]
  },
  {
   "cell_type": "code",
   "execution_count": 16,
   "metadata": {},
   "outputs": [],
   "source": [
    "FinalData2 = FinalData.copy()"
   ]
  },
  {
   "cell_type": "code",
   "execution_count": 17,
   "metadata": {},
   "outputs": [
    {
     "data": {
      "text/plain": [
       "(50000, 31)"
      ]
     },
     "execution_count": 17,
     "metadata": {},
     "output_type": "execute_result"
    }
   ],
   "source": [
    "FinalData2.shape"
   ]
  },
  {
   "cell_type": "markdown",
   "metadata": {},
   "source": [
    "**Removing Outliers**"
   ]
  },
  {
   "cell_type": "code",
   "execution_count": 18,
   "metadata": {},
   "outputs": [
    {
     "data": {
      "text/html": [
       "<div>\n",
       "<style scoped>\n",
       "    .dataframe tbody tr th:only-of-type {\n",
       "        vertical-align: middle;\n",
       "    }\n",
       "\n",
       "    .dataframe tbody tr th {\n",
       "        vertical-align: top;\n",
       "    }\n",
       "\n",
       "    .dataframe thead th {\n",
       "        text-align: right;\n",
       "    }\n",
       "</style>\n",
       "<table border=\"1\" class=\"dataframe\">\n",
       "  <thead>\n",
       "    <tr style=\"text-align: right;\">\n",
       "      <th></th>\n",
       "      <th>Time</th>\n",
       "      <th>V1</th>\n",
       "      <th>V2</th>\n",
       "      <th>V3</th>\n",
       "      <th>V4</th>\n",
       "      <th>V5</th>\n",
       "      <th>V6</th>\n",
       "      <th>V7</th>\n",
       "      <th>V8</th>\n",
       "      <th>V9</th>\n",
       "      <th>...</th>\n",
       "      <th>V21</th>\n",
       "      <th>V22</th>\n",
       "      <th>V23</th>\n",
       "      <th>V24</th>\n",
       "      <th>V25</th>\n",
       "      <th>V26</th>\n",
       "      <th>V27</th>\n",
       "      <th>V28</th>\n",
       "      <th>Amount</th>\n",
       "      <th>Class</th>\n",
       "    </tr>\n",
       "  </thead>\n",
       "  <tbody>\n",
       "    <tr>\n",
       "      <td>1</td>\n",
       "      <td>50049.0</td>\n",
       "      <td>1.077313</td>\n",
       "      <td>0.069079</td>\n",
       "      <td>0.485032</td>\n",
       "      <td>1.345355</td>\n",
       "      <td>-0.263816</td>\n",
       "      <td>0.010919</td>\n",
       "      <td>-0.051173</td>\n",
       "      <td>0.148398</td>\n",
       "      <td>0.109534</td>\n",
       "      <td>...</td>\n",
       "      <td>-0.034452</td>\n",
       "      <td>0.035873</td>\n",
       "      <td>-0.055862</td>\n",
       "      <td>0.216017</td>\n",
       "      <td>0.578927</td>\n",
       "      <td>-0.341847</td>\n",
       "      <td>0.029478</td>\n",
       "      <td>0.009133</td>\n",
       "      <td>23.68</td>\n",
       "      <td>0</td>\n",
       "    </tr>\n",
       "    <tr>\n",
       "      <td>3</td>\n",
       "      <td>109715.0</td>\n",
       "      <td>-0.440997</td>\n",
       "      <td>0.818730</td>\n",
       "      <td>1.925260</td>\n",
       "      <td>-0.397963</td>\n",
       "      <td>0.762742</td>\n",
       "      <td>0.518384</td>\n",
       "      <td>0.525002</td>\n",
       "      <td>-0.162991</td>\n",
       "      <td>1.475046</td>\n",
       "      <td>...</td>\n",
       "      <td>-0.353624</td>\n",
       "      <td>-0.588766</td>\n",
       "      <td>-0.346350</td>\n",
       "      <td>-0.060142</td>\n",
       "      <td>0.404193</td>\n",
       "      <td>-0.719609</td>\n",
       "      <td>-0.085553</td>\n",
       "      <td>-0.144571</td>\n",
       "      <td>11.27</td>\n",
       "      <td>0</td>\n",
       "    </tr>\n",
       "    <tr>\n",
       "      <td>4</td>\n",
       "      <td>42082.0</td>\n",
       "      <td>1.313872</td>\n",
       "      <td>0.328257</td>\n",
       "      <td>-0.291373</td>\n",
       "      <td>0.306360</td>\n",
       "      <td>0.568722</td>\n",
       "      <td>0.216932</td>\n",
       "      <td>0.031462</td>\n",
       "      <td>-0.020081</td>\n",
       "      <td>0.005527</td>\n",
       "      <td>...</td>\n",
       "      <td>-0.343473</td>\n",
       "      <td>-0.908457</td>\n",
       "      <td>-0.022990</td>\n",
       "      <td>-1.346924</td>\n",
       "      <td>0.357107</td>\n",
       "      <td>0.208395</td>\n",
       "      <td>-0.003123</td>\n",
       "      <td>0.014764</td>\n",
       "      <td>0.99</td>\n",
       "      <td>0</td>\n",
       "    </tr>\n",
       "    <tr>\n",
       "      <td>5</td>\n",
       "      <td>42644.0</td>\n",
       "      <td>1.257629</td>\n",
       "      <td>0.625968</td>\n",
       "      <td>-0.675252</td>\n",
       "      <td>0.676858</td>\n",
       "      <td>0.363998</td>\n",
       "      <td>-0.936655</td>\n",
       "      <td>0.327688</td>\n",
       "      <td>-0.172623</td>\n",
       "      <td>-0.464456</td>\n",
       "      <td>...</td>\n",
       "      <td>-0.119216</td>\n",
       "      <td>-0.301195</td>\n",
       "      <td>-0.141110</td>\n",
       "      <td>-0.097770</td>\n",
       "      <td>0.597812</td>\n",
       "      <td>0.370451</td>\n",
       "      <td>-0.032338</td>\n",
       "      <td>0.030225</td>\n",
       "      <td>0.76</td>\n",
       "      <td>0</td>\n",
       "    </tr>\n",
       "    <tr>\n",
       "      <td>6</td>\n",
       "      <td>122525.0</td>\n",
       "      <td>1.981493</td>\n",
       "      <td>-0.252533</td>\n",
       "      <td>-1.863740</td>\n",
       "      <td>0.556561</td>\n",
       "      <td>0.299170</td>\n",
       "      <td>-0.936271</td>\n",
       "      <td>0.448755</td>\n",
       "      <td>-0.295349</td>\n",
       "      <td>0.555655</td>\n",
       "      <td>...</td>\n",
       "      <td>-0.018446</td>\n",
       "      <td>-0.075680</td>\n",
       "      <td>0.064867</td>\n",
       "      <td>0.746939</td>\n",
       "      <td>0.173595</td>\n",
       "      <td>0.345001</td>\n",
       "      <td>-0.108254</td>\n",
       "      <td>-0.060371</td>\n",
       "      <td>62.98</td>\n",
       "      <td>0</td>\n",
       "    </tr>\n",
       "  </tbody>\n",
       "</table>\n",
       "<p>5 rows × 31 columns</p>\n",
       "</div>"
      ],
      "text/plain": [
       "       Time        V1        V2        V3        V4        V5        V6  \\\n",
       "1   50049.0  1.077313  0.069079  0.485032  1.345355 -0.263816  0.010919   \n",
       "3  109715.0 -0.440997  0.818730  1.925260 -0.397963  0.762742  0.518384   \n",
       "4   42082.0  1.313872  0.328257 -0.291373  0.306360  0.568722  0.216932   \n",
       "5   42644.0  1.257629  0.625968 -0.675252  0.676858  0.363998 -0.936655   \n",
       "6  122525.0  1.981493 -0.252533 -1.863740  0.556561  0.299170 -0.936271   \n",
       "\n",
       "         V7        V8        V9  ...       V21       V22       V23       V24  \\\n",
       "1 -0.051173  0.148398  0.109534  ... -0.034452  0.035873 -0.055862  0.216017   \n",
       "3  0.525002 -0.162991  1.475046  ... -0.353624 -0.588766 -0.346350 -0.060142   \n",
       "4  0.031462 -0.020081  0.005527  ... -0.343473 -0.908457 -0.022990 -1.346924   \n",
       "5  0.327688 -0.172623 -0.464456  ... -0.119216 -0.301195 -0.141110 -0.097770   \n",
       "6  0.448755 -0.295349  0.555655  ... -0.018446 -0.075680  0.064867  0.746939   \n",
       "\n",
       "        V25       V26       V27       V28  Amount  Class  \n",
       "1  0.578927 -0.341847  0.029478  0.009133   23.68      0  \n",
       "3  0.404193 -0.719609 -0.085553 -0.144571   11.27      0  \n",
       "4  0.357107  0.208395 -0.003123  0.014764    0.99      0  \n",
       "5  0.597812  0.370451 -0.032338  0.030225    0.76      0  \n",
       "6  0.173595  0.345001 -0.108254 -0.060371   62.98      0  \n",
       "\n",
       "[5 rows x 31 columns]"
      ]
     },
     "execution_count": 18,
     "metadata": {},
     "output_type": "execute_result"
    }
   ],
   "source": [
    "for i in range(50000):\n",
    "    if outlierArray[i] == -1:\n",
    "        FinalData.drop(i, inplace = True)\n",
    "FinalData.head()"
   ]
  },
  {
   "cell_type": "code",
   "execution_count": 19,
   "metadata": {},
   "outputs": [
    {
     "data": {
      "text/plain": [
       "(50000, 31)"
      ]
     },
     "execution_count": 19,
     "metadata": {},
     "output_type": "execute_result"
    }
   ],
   "source": [
    "FinalData2.shape"
   ]
  },
  {
   "cell_type": "code",
   "execution_count": 20,
   "metadata": {},
   "outputs": [
    {
     "data": {
      "text/plain": [
       "(25000, 31)"
      ]
     },
     "execution_count": 20,
     "metadata": {},
     "output_type": "execute_result"
    }
   ],
   "source": [
    "FinalData.shape"
   ]
  },
  {
   "cell_type": "code",
   "execution_count": 21,
   "metadata": {},
   "outputs": [
    {
     "data": {
      "image/png": "[encoded data removed]",
      "text/plain": [
       "<Figure size 1152x432 with 2 Axes>"
      ]
     },
     "metadata": {
      "needs_background": "light"
     },
     "output_type": "display_data"
    }
   ],
   "source": [
    "fig = plt.figure(figsize = (16,6))\n",
    "\n",
    "plt.subplot(1, 2, 1)\n",
    "plt.title(\"Before removing outliers for column V1\")\n",
    "ax = sns.boxplot(x=\"Class\", y = \"V1\", data= FinalData2, hue = \"Class\")\n",
    "\n",
    "plt.subplot(1, 2, 2)\n",
    "plt.title(\"After removing outliers for column V1\")\n",
    "ax = sns.boxplot(x=\"Class\", y = \"V1\", data= FinalData, hue = \"Class\")"
   ]
  },
  {
   "cell_type": "code",
   "execution_count": 22,
   "metadata": {},
   "outputs": [
    {
     "data": {
      "image/png": "[encoded data removed]",
      "text/plain": [
       "<Figure size 1152x432 with 2 Axes>"
      ]
     },
     "metadata": {
      "needs_background": "light"
     },
     "output_type": "display_data"
    }
   ],
   "source": [
    "fig = plt.figure(figsize = (16,6))\n",
    "\n",
    "plt.subplot(1, 2, 1)\n",
    "plt.title(\"Before removing outliers for column V2\")\n",
    "ax = sns.boxplot(x=\"Class\", y = \"V2\", data= FinalData2, hue = \"Class\")\n",
    "\n",
    "plt.subplot(1, 2, 2)\n",
    "plt.title(\"After removing outliers for column V2\")\n",
    "ax = sns.boxplot(x=\"Class\", y = \"V2\", data= FinalData, hue = \"Class\")"
   ]
  },
  {
   "cell_type": "code",
   "execution_count": 23,
   "metadata": {},
   "outputs": [
    {
     "data": {
      "image/png": "[encoded data removed]",
      "text/plain": [
       "<Figure size 1152x432 with 2 Axes>"
      ]
     },
     "metadata": {
      "needs_background": "light"
     },
     "output_type": "display_data"
    }
   ],
   "source": [
    "fig = plt.figure(figsize = (16,6))\n",
    "\n",
    "plt.subplot(1, 2, 1)\n",
    "plt.title(\"Before removing outliers for column V3\")\n",
    "ax = sns.boxplot(x=\"Class\", y = \"V3\", data= FinalData2, hue = \"Class\")\n",
    "\n",
    "plt.subplot(1, 2, 2)\n",
    "plt.title(\"After removing outliers for column V3\")\n",
    "ax = sns.boxplot(x=\"Class\", y = \"V3\", data= FinalData, hue = \"Class\")"
   ]
  },
  {
   "cell_type": "code",
   "execution_count": 24,
   "metadata": {},
   "outputs": [
    {
     "data": {
      "image/png": "[encoded data removed]",
      "text/plain": [
       "<Figure size 1152x432 with 2 Axes>"
      ]
     },
     "metadata": {
      "needs_background": "light"
     },
     "output_type": "display_data"
    }
   ],
   "source": [
    "fig = plt.figure(figsize = (16,6))\n",
    "\n",
    "plt.subplot(1, 2, 1)\n",
    "plt.title(\"Before removing outliers for column V4\")\n",
    "ax = sns.boxplot(x=\"Class\", y = \"V4\", data= FinalData2, hue = \"Class\")\n",
    "\n",
    "plt.subplot(1, 2, 2)\n",
    "plt.title(\"After removing outliers for column V4\")\n",
    "ax = sns.boxplot(x=\"Class\", y = \"V4\", data= FinalData, hue = \"Class\")"
   ]
  },
  {
   "cell_type": "code",
   "execution_count": 25,
   "metadata": {},
   "outputs": [
    {
     "data": {
      "image/png": "[encoded data removed]",
      "text/plain": [
       "<Figure size 1152x432 with 2 Axes>"
      ]
     },
     "metadata": {
      "needs_background": "light"
     },
     "output_type": "display_data"
    }
   ],
   "source": [
    "fig = plt.figure(figsize = (16,6))\n",
    "\n",
    "plt.subplot(1, 2, 1)\n",
    "plt.title(\"Before removing outliers for column V5\")\n",
    "ax = sns.boxplot(x=\"Class\", y = \"V5\", data= FinalData2, hue = \"Class\")\n",
    "\n",
    "plt.subplot(1, 2, 2)\n",
    "plt.title(\"After removing outliers for column V5\")\n",
    "ax = sns.boxplot(x=\"Class\", y = \"V5\", data= FinalData, hue = \"Class\")"
   ]
  },
  {
   "cell_type": "markdown",
   "metadata": {},
   "source": [
    "**It can easily be observed in all of the above boxplots corresponding to columns V1, V2, V3, V4, V5, that most of the outliers for points belongs to class 1 has been removed. Furthermore, many of the outliers for points belong to class 0 has also been removed. For example for class 0 in plot 1 for column V1 all of the outliers less than -35 have been removed. Similarly, for class 0 in plot 3 for column V3 all the outliers less than -18 have been removed. Similarly, for class 0 in plot 5 for column V5 all of the outliers greater than 15 have been removed.**"
   ]
  },
  {
   "cell_type": "markdown",
   "metadata": {},
   "source": [
    "### Detecting outliers for 'k' value 3\n",
    "\n",
    "#### We have assumed that 50% of total points in our data set are outliers."
   ]
  },
  {
   "cell_type": "code",
   "execution_count": 26,
   "metadata": {},
   "outputs": [
    {
     "data": {
      "text/html": [
       "<div>\n",
       "<style scoped>\n",
       "    .dataframe tbody tr th:only-of-type {\n",
       "        vertical-align: middle;\n",
       "    }\n",
       "\n",
       "    .dataframe tbody tr th {\n",
       "        vertical-align: top;\n",
       "    }\n",
       "\n",
       "    .dataframe thead th {\n",
       "        text-align: right;\n",
       "    }\n",
       "</style>\n",
       "<table border=\"1\" class=\"dataframe\">\n",
       "  <thead>\n",
       "    <tr style=\"text-align: right;\">\n",
       "      <th></th>\n",
       "      <th>Unnamed: 0</th>\n",
       "      <th>Time</th>\n",
       "      <th>V1</th>\n",
       "      <th>V2</th>\n",
       "      <th>V3</th>\n",
       "      <th>V4</th>\n",
       "      <th>V5</th>\n",
       "      <th>V6</th>\n",
       "      <th>V7</th>\n",
       "      <th>V8</th>\n",
       "      <th>...</th>\n",
       "      <th>V21</th>\n",
       "      <th>V22</th>\n",
       "      <th>V23</th>\n",
       "      <th>V24</th>\n",
       "      <th>V25</th>\n",
       "      <th>V26</th>\n",
       "      <th>V27</th>\n",
       "      <th>V28</th>\n",
       "      <th>Amount</th>\n",
       "      <th>Class</th>\n",
       "    </tr>\n",
       "  </thead>\n",
       "  <tbody>\n",
       "    <tr>\n",
       "      <td>0</td>\n",
       "      <td>127306</td>\n",
       "      <td>78286.0</td>\n",
       "      <td>-1.570460</td>\n",
       "      <td>-0.051664</td>\n",
       "      <td>1.884651</td>\n",
       "      <td>-0.939705</td>\n",
       "      <td>-0.679193</td>\n",
       "      <td>0.141161</td>\n",
       "      <td>-0.543165</td>\n",
       "      <td>1.018808</td>\n",
       "      <td>...</td>\n",
       "      <td>-0.042499</td>\n",
       "      <td>-0.286909</td>\n",
       "      <td>0.049376</td>\n",
       "      <td>0.019796</td>\n",
       "      <td>-0.224265</td>\n",
       "      <td>0.814524</td>\n",
       "      <td>0.132949</td>\n",
       "      <td>0.005025</td>\n",
       "      <td>48.95</td>\n",
       "      <td>0</td>\n",
       "    </tr>\n",
       "    <tr>\n",
       "      <td>1</td>\n",
       "      <td>61919</td>\n",
       "      <td>50049.0</td>\n",
       "      <td>1.077313</td>\n",
       "      <td>0.069079</td>\n",
       "      <td>0.485032</td>\n",
       "      <td>1.345355</td>\n",
       "      <td>-0.263816</td>\n",
       "      <td>0.010919</td>\n",
       "      <td>-0.051173</td>\n",
       "      <td>0.148398</td>\n",
       "      <td>...</td>\n",
       "      <td>-0.034452</td>\n",
       "      <td>0.035873</td>\n",
       "      <td>-0.055862</td>\n",
       "      <td>0.216017</td>\n",
       "      <td>0.578927</td>\n",
       "      <td>-0.341847</td>\n",
       "      <td>0.029478</td>\n",
       "      <td>0.009133</td>\n",
       "      <td>23.68</td>\n",
       "      <td>0</td>\n",
       "    </tr>\n",
       "    <tr>\n",
       "      <td>2</td>\n",
       "      <td>153747</td>\n",
       "      <td>99968.0</td>\n",
       "      <td>-0.551407</td>\n",
       "      <td>1.625713</td>\n",
       "      <td>0.348719</td>\n",
       "      <td>-0.907557</td>\n",
       "      <td>1.845395</td>\n",
       "      <td>-0.483717</td>\n",
       "      <td>2.342642</td>\n",
       "      <td>-1.807167</td>\n",
       "      <td>...</td>\n",
       "      <td>-0.312354</td>\n",
       "      <td>1.274172</td>\n",
       "      <td>-0.304756</td>\n",
       "      <td>0.597497</td>\n",
       "      <td>-0.616562</td>\n",
       "      <td>-0.457962</td>\n",
       "      <td>-0.018697</td>\n",
       "      <td>-0.879917</td>\n",
       "      <td>1.29</td>\n",
       "      <td>0</td>\n",
       "    </tr>\n",
       "    <tr>\n",
       "      <td>3</td>\n",
       "      <td>157216</td>\n",
       "      <td>109715.0</td>\n",
       "      <td>-0.440997</td>\n",
       "      <td>0.818730</td>\n",
       "      <td>1.925260</td>\n",
       "      <td>-0.397963</td>\n",
       "      <td>0.762742</td>\n",
       "      <td>0.518384</td>\n",
       "      <td>0.525002</td>\n",
       "      <td>-0.162991</td>\n",
       "      <td>...</td>\n",
       "      <td>-0.353624</td>\n",
       "      <td>-0.588766</td>\n",
       "      <td>-0.346350</td>\n",
       "      <td>-0.060142</td>\n",
       "      <td>0.404193</td>\n",
       "      <td>-0.719609</td>\n",
       "      <td>-0.085553</td>\n",
       "      <td>-0.144571</td>\n",
       "      <td>11.27</td>\n",
       "      <td>0</td>\n",
       "    </tr>\n",
       "    <tr>\n",
       "      <td>4</td>\n",
       "      <td>44783</td>\n",
       "      <td>42082.0</td>\n",
       "      <td>1.313872</td>\n",
       "      <td>0.328257</td>\n",
       "      <td>-0.291373</td>\n",
       "      <td>0.306360</td>\n",
       "      <td>0.568722</td>\n",
       "      <td>0.216932</td>\n",
       "      <td>0.031462</td>\n",
       "      <td>-0.020081</td>\n",
       "      <td>...</td>\n",
       "      <td>-0.343473</td>\n",
       "      <td>-0.908457</td>\n",
       "      <td>-0.022990</td>\n",
       "      <td>-1.346924</td>\n",
       "      <td>0.357107</td>\n",
       "      <td>0.208395</td>\n",
       "      <td>-0.003123</td>\n",
       "      <td>0.014764</td>\n",
       "      <td>0.99</td>\n",
       "      <td>0</td>\n",
       "    </tr>\n",
       "  </tbody>\n",
       "</table>\n",
       "<p>5 rows × 32 columns</p>\n",
       "</div>"
      ],
      "text/plain": [
       "   Unnamed: 0      Time        V1        V2        V3        V4        V5  \\\n",
       "0      127306   78286.0 -1.570460 -0.051664  1.884651 -0.939705 -0.679193   \n",
       "1       61919   50049.0  1.077313  0.069079  0.485032  1.345355 -0.263816   \n",
       "2      153747   99968.0 -0.551407  1.625713  0.348719 -0.907557  1.845395   \n",
       "3      157216  109715.0 -0.440997  0.818730  1.925260 -0.397963  0.762742   \n",
       "4       44783   42082.0  1.313872  0.328257 -0.291373  0.306360  0.568722   \n",
       "\n",
       "         V6        V7        V8  ...       V21       V22       V23       V24  \\\n",
       "0  0.141161 -0.543165  1.018808  ... -0.042499 -0.286909  0.049376  0.019796   \n",
       "1  0.010919 -0.051173  0.148398  ... -0.034452  0.035873 -0.055862  0.216017   \n",
       "2 -0.483717  2.342642 -1.807167  ... -0.312354  1.274172 -0.304756  0.597497   \n",
       "3  0.518384  0.525002 -0.162991  ... -0.353624 -0.588766 -0.346350 -0.060142   \n",
       "4  0.216932  0.031462 -0.020081  ... -0.343473 -0.908457 -0.022990 -1.346924   \n",
       "\n",
       "        V25       V26       V27       V28  Amount  Class  \n",
       "0 -0.224265  0.814524  0.132949  0.005025   48.95      0  \n",
       "1  0.578927 -0.341847  0.029478  0.009133   23.68      0  \n",
       "2 -0.616562 -0.457962 -0.018697 -0.879917    1.29      0  \n",
       "3  0.404193 -0.719609 -0.085553 -0.144571   11.27      0  \n",
       "4  0.357107  0.208395 -0.003123  0.014764    0.99      0  \n",
       "\n",
       "[5 rows x 32 columns]"
      ]
     },
     "execution_count": 26,
     "metadata": {},
     "output_type": "execute_result"
    }
   ],
   "source": [
    "newData = pd.read_csv(\"NewCreditCard.csv\")\n",
    "\n",
    "newData.head()"
   ]
  },
  {
   "cell_type": "code",
   "execution_count": 27,
   "metadata": {},
   "outputs": [
    {
     "data": {
      "text/html": [
       "<div>\n",
       "<style scoped>\n",
       "    .dataframe tbody tr th:only-of-type {\n",
       "        vertical-align: middle;\n",
       "    }\n",
       "\n",
       "    .dataframe tbody tr th {\n",
       "        vertical-align: top;\n",
       "    }\n",
       "\n",
       "    .dataframe thead th {\n",
       "        text-align: right;\n",
       "    }\n",
       "</style>\n",
       "<table border=\"1\" class=\"dataframe\">\n",
       "  <thead>\n",
       "    <tr style=\"text-align: right;\">\n",
       "      <th></th>\n",
       "      <th>Time</th>\n",
       "      <th>V1</th>\n",
       "      <th>V2</th>\n",
       "      <th>V3</th>\n",
       "      <th>V4</th>\n",
       "      <th>V5</th>\n",
       "      <th>V6</th>\n",
       "      <th>V7</th>\n",
       "      <th>V8</th>\n",
       "      <th>V9</th>\n",
       "      <th>...</th>\n",
       "      <th>V21</th>\n",
       "      <th>V22</th>\n",
       "      <th>V23</th>\n",
       "      <th>V24</th>\n",
       "      <th>V25</th>\n",
       "      <th>V26</th>\n",
       "      <th>V27</th>\n",
       "      <th>V28</th>\n",
       "      <th>Amount</th>\n",
       "      <th>Class</th>\n",
       "    </tr>\n",
       "  </thead>\n",
       "  <tbody>\n",
       "    <tr>\n",
       "      <td>0</td>\n",
       "      <td>78286.0</td>\n",
       "      <td>-1.570460</td>\n",
       "      <td>-0.051664</td>\n",
       "      <td>1.884651</td>\n",
       "      <td>-0.939705</td>\n",
       "      <td>-0.679193</td>\n",
       "      <td>0.141161</td>\n",
       "      <td>-0.543165</td>\n",
       "      <td>1.018808</td>\n",
       "      <td>0.611479</td>\n",
       "      <td>...</td>\n",
       "      <td>-0.042499</td>\n",
       "      <td>-0.286909</td>\n",
       "      <td>0.049376</td>\n",
       "      <td>0.019796</td>\n",
       "      <td>-0.224265</td>\n",
       "      <td>0.814524</td>\n",
       "      <td>0.132949</td>\n",
       "      <td>0.005025</td>\n",
       "      <td>48.95</td>\n",
       "      <td>0</td>\n",
       "    </tr>\n",
       "    <tr>\n",
       "      <td>1</td>\n",
       "      <td>50049.0</td>\n",
       "      <td>1.077313</td>\n",
       "      <td>0.069079</td>\n",
       "      <td>0.485032</td>\n",
       "      <td>1.345355</td>\n",
       "      <td>-0.263816</td>\n",
       "      <td>0.010919</td>\n",
       "      <td>-0.051173</td>\n",
       "      <td>0.148398</td>\n",
       "      <td>0.109534</td>\n",
       "      <td>...</td>\n",
       "      <td>-0.034452</td>\n",
       "      <td>0.035873</td>\n",
       "      <td>-0.055862</td>\n",
       "      <td>0.216017</td>\n",
       "      <td>0.578927</td>\n",
       "      <td>-0.341847</td>\n",
       "      <td>0.029478</td>\n",
       "      <td>0.009133</td>\n",
       "      <td>23.68</td>\n",
       "      <td>0</td>\n",
       "    </tr>\n",
       "    <tr>\n",
       "      <td>2</td>\n",
       "      <td>99968.0</td>\n",
       "      <td>-0.551407</td>\n",
       "      <td>1.625713</td>\n",
       "      <td>0.348719</td>\n",
       "      <td>-0.907557</td>\n",
       "      <td>1.845395</td>\n",
       "      <td>-0.483717</td>\n",
       "      <td>2.342642</td>\n",
       "      <td>-1.807167</td>\n",
       "      <td>3.210068</td>\n",
       "      <td>...</td>\n",
       "      <td>-0.312354</td>\n",
       "      <td>1.274172</td>\n",
       "      <td>-0.304756</td>\n",
       "      <td>0.597497</td>\n",
       "      <td>-0.616562</td>\n",
       "      <td>-0.457962</td>\n",
       "      <td>-0.018697</td>\n",
       "      <td>-0.879917</td>\n",
       "      <td>1.29</td>\n",
       "      <td>0</td>\n",
       "    </tr>\n",
       "    <tr>\n",
       "      <td>3</td>\n",
       "      <td>109715.0</td>\n",
       "      <td>-0.440997</td>\n",
       "      <td>0.818730</td>\n",
       "      <td>1.925260</td>\n",
       "      <td>-0.397963</td>\n",
       "      <td>0.762742</td>\n",
       "      <td>0.518384</td>\n",
       "      <td>0.525002</td>\n",
       "      <td>-0.162991</td>\n",
       "      <td>1.475046</td>\n",
       "      <td>...</td>\n",
       "      <td>-0.353624</td>\n",
       "      <td>-0.588766</td>\n",
       "      <td>-0.346350</td>\n",
       "      <td>-0.060142</td>\n",
       "      <td>0.404193</td>\n",
       "      <td>-0.719609</td>\n",
       "      <td>-0.085553</td>\n",
       "      <td>-0.144571</td>\n",
       "      <td>11.27</td>\n",
       "      <td>0</td>\n",
       "    </tr>\n",
       "    <tr>\n",
       "      <td>4</td>\n",
       "      <td>42082.0</td>\n",
       "      <td>1.313872</td>\n",
       "      <td>0.328257</td>\n",
       "      <td>-0.291373</td>\n",
       "      <td>0.306360</td>\n",
       "      <td>0.568722</td>\n",
       "      <td>0.216932</td>\n",
       "      <td>0.031462</td>\n",
       "      <td>-0.020081</td>\n",
       "      <td>0.005527</td>\n",
       "      <td>...</td>\n",
       "      <td>-0.343473</td>\n",
       "      <td>-0.908457</td>\n",
       "      <td>-0.022990</td>\n",
       "      <td>-1.346924</td>\n",
       "      <td>0.357107</td>\n",
       "      <td>0.208395</td>\n",
       "      <td>-0.003123</td>\n",
       "      <td>0.014764</td>\n",
       "      <td>0.99</td>\n",
       "      <td>0</td>\n",
       "    </tr>\n",
       "  </tbody>\n",
       "</table>\n",
       "<p>5 rows × 31 columns</p>\n",
       "</div>"
      ],
      "text/plain": [
       "       Time        V1        V2        V3        V4        V5        V6  \\\n",
       "0   78286.0 -1.570460 -0.051664  1.884651 -0.939705 -0.679193  0.141161   \n",
       "1   50049.0  1.077313  0.069079  0.485032  1.345355 -0.263816  0.010919   \n",
       "2   99968.0 -0.551407  1.625713  0.348719 -0.907557  1.845395 -0.483717   \n",
       "3  109715.0 -0.440997  0.818730  1.925260 -0.397963  0.762742  0.518384   \n",
       "4   42082.0  1.313872  0.328257 -0.291373  0.306360  0.568722  0.216932   \n",
       "\n",
       "         V7        V8        V9  ...       V21       V22       V23       V24  \\\n",
       "0 -0.543165  1.018808  0.611479  ... -0.042499 -0.286909  0.049376  0.019796   \n",
       "1 -0.051173  0.148398  0.109534  ... -0.034452  0.035873 -0.055862  0.216017   \n",
       "2  2.342642 -1.807167  3.210068  ... -0.312354  1.274172 -0.304756  0.597497   \n",
       "3  0.525002 -0.162991  1.475046  ... -0.353624 -0.588766 -0.346350 -0.060142   \n",
       "4  0.031462 -0.020081  0.005527  ... -0.343473 -0.908457 -0.022990 -1.346924   \n",
       "\n",
       "        V25       V26       V27       V28  Amount  Class  \n",
       "0 -0.224265  0.814524  0.132949  0.005025   48.95      0  \n",
       "1  0.578927 -0.341847  0.029478  0.009133   23.68      0  \n",
       "2 -0.616562 -0.457962 -0.018697 -0.879917    1.29      0  \n",
       "3  0.404193 -0.719609 -0.085553 -0.144571   11.27      0  \n",
       "4  0.357107  0.208395 -0.003123  0.014764    0.99      0  \n",
       "\n",
       "[5 rows x 31 columns]"
      ]
     },
     "execution_count": 27,
     "metadata": {},
     "output_type": "execute_result"
    }
   ],
   "source": [
    "FinalData = newData.drop(\"Unnamed: 0\", axis = 1)\n",
    "\n",
    "FinalData.head()"
   ]
  },
  {
   "cell_type": "code",
   "execution_count": 28,
   "metadata": {},
   "outputs": [
    {
     "data": {
      "text/plain": [
       "(50000, 31)"
      ]
     },
     "execution_count": 28,
     "metadata": {},
     "output_type": "execute_result"
    }
   ],
   "source": [
    "FinalData.shape"
   ]
  },
  {
   "cell_type": "code",
   "execution_count": 29,
   "metadata": {},
   "outputs": [
    {
     "data": {
      "text/plain": [
       "array([-1,  1, -1, ..., -1,  1,  1])"
      ]
     },
     "execution_count": 29,
     "metadata": {},
     "output_type": "execute_result"
    }
   ],
   "source": [
    "lof = LocalOutlierFactor(n_neighbors=3, algorithm='auto', metric='minkowski', p=2, metric_params=None, contamination=0.5, n_jobs=1)\n",
    "\n",
    "outlierArray = lof.fit_predict(FinalData)\n",
    "\n",
    "outlierArray"
   ]
  },
  {
   "cell_type": "markdown",
   "metadata": {},
   "source": [
    "**Here, we got an array, where row corresponding to array element 1 in our dataset is an inlier and row corresponding to array element to -1 in our dataset is an oulier**"
   ]
  },
  {
   "cell_type": "code",
   "execution_count": 30,
   "metadata": {},
   "outputs": [
    {
     "data": {
      "text/plain": [
       "50000"
      ]
     },
     "execution_count": 30,
     "metadata": {},
     "output_type": "execute_result"
    }
   ],
   "source": [
    "len(outlierArray)"
   ]
  },
  {
   "cell_type": "markdown",
   "metadata": {},
   "source": [
    "**Calculating total number of outlier and inliers**"
   ]
  },
  {
   "cell_type": "code",
   "execution_count": 31,
   "metadata": {},
   "outputs": [
    {
     "name": "stdout",
     "output_type": "stream",
     "text": [
      "Total number of outliers = 25000\n",
      "Total number of inliers = 25000\n"
     ]
    }
   ],
   "source": [
    "countOutliers = 0\n",
    "countInliers = 0\n",
    "for i in range(50000):\n",
    "    if outlierArray[i] == -1:\n",
    "        countOutliers += 1\n",
    "    else:\n",
    "        countInliers += 1\n",
    "print(\"Total number of outliers = \"+str(countOutliers))\n",
    "print(\"Total number of inliers = \"+str(countInliers))"
   ]
  },
  {
   "cell_type": "code",
   "execution_count": 32,
   "metadata": {},
   "outputs": [],
   "source": [
    "FinalData2 = FinalData.copy()"
   ]
  },
  {
   "cell_type": "code",
   "execution_count": 33,
   "metadata": {},
   "outputs": [
    {
     "data": {
      "text/plain": [
       "(50000, 31)"
      ]
     },
     "execution_count": 33,
     "metadata": {},
     "output_type": "execute_result"
    }
   ],
   "source": [
    "FinalData2.shape"
   ]
  },
  {
   "cell_type": "markdown",
   "metadata": {},
   "source": [
    "**Removing Outliers**"
   ]
  },
  {
   "cell_type": "code",
   "execution_count": 34,
   "metadata": {},
   "outputs": [
    {
     "data": {
      "text/html": [
       "<div>\n",
       "<style scoped>\n",
       "    .dataframe tbody tr th:only-of-type {\n",
       "        vertical-align: middle;\n",
       "    }\n",
       "\n",
       "    .dataframe tbody tr th {\n",
       "        vertical-align: top;\n",
       "    }\n",
       "\n",
       "    .dataframe thead th {\n",
       "        text-align: right;\n",
       "    }\n",
       "</style>\n",
       "<table border=\"1\" class=\"dataframe\">\n",
       "  <thead>\n",
       "    <tr style=\"text-align: right;\">\n",
       "      <th></th>\n",
       "      <th>Time</th>\n",
       "      <th>V1</th>\n",
       "      <th>V2</th>\n",
       "      <th>V3</th>\n",
       "      <th>V4</th>\n",
       "      <th>V5</th>\n",
       "      <th>V6</th>\n",
       "      <th>V7</th>\n",
       "      <th>V8</th>\n",
       "      <th>V9</th>\n",
       "      <th>...</th>\n",
       "      <th>V21</th>\n",
       "      <th>V22</th>\n",
       "      <th>V23</th>\n",
       "      <th>V24</th>\n",
       "      <th>V25</th>\n",
       "      <th>V26</th>\n",
       "      <th>V27</th>\n",
       "      <th>V28</th>\n",
       "      <th>Amount</th>\n",
       "      <th>Class</th>\n",
       "    </tr>\n",
       "  </thead>\n",
       "  <tbody>\n",
       "    <tr>\n",
       "      <td>1</td>\n",
       "      <td>50049.0</td>\n",
       "      <td>1.077313</td>\n",
       "      <td>0.069079</td>\n",
       "      <td>0.485032</td>\n",
       "      <td>1.345355</td>\n",
       "      <td>-0.263816</td>\n",
       "      <td>0.010919</td>\n",
       "      <td>-0.051173</td>\n",
       "      <td>0.148398</td>\n",
       "      <td>0.109534</td>\n",
       "      <td>...</td>\n",
       "      <td>-0.034452</td>\n",
       "      <td>0.035873</td>\n",
       "      <td>-0.055862</td>\n",
       "      <td>0.216017</td>\n",
       "      <td>0.578927</td>\n",
       "      <td>-0.341847</td>\n",
       "      <td>0.029478</td>\n",
       "      <td>0.009133</td>\n",
       "      <td>23.68</td>\n",
       "      <td>0</td>\n",
       "    </tr>\n",
       "    <tr>\n",
       "      <td>3</td>\n",
       "      <td>109715.0</td>\n",
       "      <td>-0.440997</td>\n",
       "      <td>0.818730</td>\n",
       "      <td>1.925260</td>\n",
       "      <td>-0.397963</td>\n",
       "      <td>0.762742</td>\n",
       "      <td>0.518384</td>\n",
       "      <td>0.525002</td>\n",
       "      <td>-0.162991</td>\n",
       "      <td>1.475046</td>\n",
       "      <td>...</td>\n",
       "      <td>-0.353624</td>\n",
       "      <td>-0.588766</td>\n",
       "      <td>-0.346350</td>\n",
       "      <td>-0.060142</td>\n",
       "      <td>0.404193</td>\n",
       "      <td>-0.719609</td>\n",
       "      <td>-0.085553</td>\n",
       "      <td>-0.144571</td>\n",
       "      <td>11.27</td>\n",
       "      <td>0</td>\n",
       "    </tr>\n",
       "    <tr>\n",
       "      <td>5</td>\n",
       "      <td>42644.0</td>\n",
       "      <td>1.257629</td>\n",
       "      <td>0.625968</td>\n",
       "      <td>-0.675252</td>\n",
       "      <td>0.676858</td>\n",
       "      <td>0.363998</td>\n",
       "      <td>-0.936655</td>\n",
       "      <td>0.327688</td>\n",
       "      <td>-0.172623</td>\n",
       "      <td>-0.464456</td>\n",
       "      <td>...</td>\n",
       "      <td>-0.119216</td>\n",
       "      <td>-0.301195</td>\n",
       "      <td>-0.141110</td>\n",
       "      <td>-0.097770</td>\n",
       "      <td>0.597812</td>\n",
       "      <td>0.370451</td>\n",
       "      <td>-0.032338</td>\n",
       "      <td>0.030225</td>\n",
       "      <td>0.76</td>\n",
       "      <td>0</td>\n",
       "    </tr>\n",
       "    <tr>\n",
       "      <td>6</td>\n",
       "      <td>122525.0</td>\n",
       "      <td>1.981493</td>\n",
       "      <td>-0.252533</td>\n",
       "      <td>-1.863740</td>\n",
       "      <td>0.556561</td>\n",
       "      <td>0.299170</td>\n",
       "      <td>-0.936271</td>\n",
       "      <td>0.448755</td>\n",
       "      <td>-0.295349</td>\n",
       "      <td>0.555655</td>\n",
       "      <td>...</td>\n",
       "      <td>-0.018446</td>\n",
       "      <td>-0.075680</td>\n",
       "      <td>0.064867</td>\n",
       "      <td>0.746939</td>\n",
       "      <td>0.173595</td>\n",
       "      <td>0.345001</td>\n",
       "      <td>-0.108254</td>\n",
       "      <td>-0.060371</td>\n",
       "      <td>62.98</td>\n",
       "      <td>0</td>\n",
       "    </tr>\n",
       "    <tr>\n",
       "      <td>9</td>\n",
       "      <td>35483.0</td>\n",
       "      <td>-0.509905</td>\n",
       "      <td>-2.629370</td>\n",
       "      <td>0.388648</td>\n",
       "      <td>1.757071</td>\n",
       "      <td>-1.068684</td>\n",
       "      <td>1.824353</td>\n",
       "      <td>0.118010</td>\n",
       "      <td>0.443424</td>\n",
       "      <td>0.656967</td>\n",
       "      <td>...</td>\n",
       "      <td>0.726568</td>\n",
       "      <td>0.692037</td>\n",
       "      <td>-0.593968</td>\n",
       "      <td>-0.580804</td>\n",
       "      <td>-0.126838</td>\n",
       "      <td>-0.230708</td>\n",
       "      <td>-0.002900</td>\n",
       "      <td>0.156778</td>\n",
       "      <td>766.88</td>\n",
       "      <td>0</td>\n",
       "    </tr>\n",
       "  </tbody>\n",
       "</table>\n",
       "<p>5 rows × 31 columns</p>\n",
       "</div>"
      ],
      "text/plain": [
       "       Time        V1        V2        V3        V4        V5        V6  \\\n",
       "1   50049.0  1.077313  0.069079  0.485032  1.345355 -0.263816  0.010919   \n",
       "3  109715.0 -0.440997  0.818730  1.925260 -0.397963  0.762742  0.518384   \n",
       "5   42644.0  1.257629  0.625968 -0.675252  0.676858  0.363998 -0.936655   \n",
       "6  122525.0  1.981493 -0.252533 -1.863740  0.556561  0.299170 -0.936271   \n",
       "9   35483.0 -0.509905 -2.629370  0.388648  1.757071 -1.068684  1.824353   \n",
       "\n",
       "         V7        V8        V9  ...       V21       V22       V23       V24  \\\n",
       "1 -0.051173  0.148398  0.109534  ... -0.034452  0.035873 -0.055862  0.216017   \n",
       "3  0.525002 -0.162991  1.475046  ... -0.353624 -0.588766 -0.346350 -0.060142   \n",
       "5  0.327688 -0.172623 -0.464456  ... -0.119216 -0.301195 -0.141110 -0.097770   \n",
       "6  0.448755 -0.295349  0.555655  ... -0.018446 -0.075680  0.064867  0.746939   \n",
       "9  0.118010  0.443424  0.656967  ...  0.726568  0.692037 -0.593968 -0.580804   \n",
       "\n",
       "        V25       V26       V27       V28  Amount  Class  \n",
       "1  0.578927 -0.341847  0.029478  0.009133   23.68      0  \n",
       "3  0.404193 -0.719609 -0.085553 -0.144571   11.27      0  \n",
       "5  0.597812  0.370451 -0.032338  0.030225    0.76      0  \n",
       "6  0.173595  0.345001 -0.108254 -0.060371   62.98      0  \n",
       "9 -0.126838 -0.230708 -0.002900  0.156778  766.88      0  \n",
       "\n",
       "[5 rows x 31 columns]"
      ]
     },
     "execution_count": 34,
     "metadata": {},
     "output_type": "execute_result"
    }
   ],
   "source": [
    "for i in range(50000):\n",
    "    if outlierArray[i] == -1:\n",
    "        FinalData.drop(i, inplace = True)\n",
    "FinalData.head()"
   ]
  },
  {
   "cell_type": "code",
   "execution_count": 35,
   "metadata": {},
   "outputs": [
    {
     "data": {
      "text/plain": [
       "(50000, 31)"
      ]
     },
     "execution_count": 35,
     "metadata": {},
     "output_type": "execute_result"
    }
   ],
   "source": [
    "FinalData2.shape"
   ]
  },
  {
   "cell_type": "code",
   "execution_count": 36,
   "metadata": {},
   "outputs": [
    {
     "data": {
      "text/plain": [
       "(25000, 31)"
      ]
     },
     "execution_count": 36,
     "metadata": {},
     "output_type": "execute_result"
    }
   ],
   "source": [
    "FinalData.shape"
   ]
  },
  {
   "cell_type": "code",
   "execution_count": 37,
   "metadata": {},
   "outputs": [
    {
     "data": {
      "image/png": "[encoded data removed]",
      "text/plain": [
       "<Figure size 1152x432 with 2 Axes>"
      ]
     },
     "metadata": {
      "needs_background": "light"
     },
     "output_type": "display_data"
    }
   ],
   "source": [
    "fig = plt.figure(figsize = (16,6))\n",
    "\n",
    "plt.subplot(1, 2, 1)\n",
    "plt.title(\"Before removing outliers for column V1\")\n",
    "ax = sns.boxplot(x=\"Class\", y = \"V1\", data= FinalData2, hue = \"Class\")\n",
    "\n",
    "plt.subplot(1, 2, 2)\n",
    "plt.title(\"After removing outliers for column V1\")\n",
    "ax = sns.boxplot(x=\"Class\", y = \"V1\", data= FinalData, hue = \"Class\")"
   ]
  },
  {
   "cell_type": "code",
   "execution_count": 38,
   "metadata": {},
   "outputs": [
    {
     "data": {
      "image/png": "[encoded data removed]",
      "text/plain": [
       "<Figure size 1152x432 with 2 Axes>"
      ]
     },
     "metadata": {
      "needs_background": "light"
     },
     "output_type": "display_data"
    }
   ],
   "source": [
    "fig = plt.figure(figsize = (16,6))\n",
    "\n",
    "plt.subplot(1, 2, 1)\n",
    "plt.title(\"Before removing outliers for column V2\")\n",
    "ax = sns.boxplot(x=\"Class\", y = \"V2\", data= FinalData2, hue = \"Class\")\n",
    "\n",
    "plt.subplot(1, 2, 2)\n",
    "plt.title(\"After removing outliers for column V2\")\n",
    "ax = sns.boxplot(x=\"Class\", y = \"V2\", data= FinalData, hue = \"Class\")"
   ]
  },
  {
   "cell_type": "code",
   "execution_count": 39,
   "metadata": {},
   "outputs": [
    {
     "data": {
      "image/png": "[encoded data removed]",
      "text/plain": [
       "<Figure size 1152x432 with 2 Axes>"
      ]
     },
     "metadata": {
      "needs_background": "light"
     },
     "output_type": "display_data"
    }
   ],
   "source": [
    "fig = plt.figure(figsize = (16,6))\n",
    "\n",
    "plt.subplot(1, 2, 1)\n",
    "plt.title(\"Before removing outliers for column V3\")\n",
    "ax = sns.boxplot(x=\"Class\", y = \"V3\", data= FinalData2, hue = \"Class\")\n",
    "\n",
    "plt.subplot(1, 2, 2)\n",
    "plt.title(\"After removing outliers for column V3\")\n",
    "ax = sns.boxplot(x=\"Class\", y = \"V3\", data= FinalData, hue = \"Class\")"
   ]
  },
  {
   "cell_type": "code",
   "execution_count": 40,
   "metadata": {},
   "outputs": [
    {
     "data": {
      "image/png": "[encoded data removed]",
      "text/plain": [
       "<Figure size 1152x432 with 2 Axes>"
      ]
     },
     "metadata": {
      "needs_background": "light"
     },
     "output_type": "display_data"
    }
   ],
   "source": [
    "fig = plt.figure(figsize = (16,6))\n",
    "\n",
    "plt.subplot(1, 2, 1)\n",
    "plt.title(\"Before removing outliers for column V4\")\n",
    "ax = sns.boxplot(x=\"Class\", y = \"V4\", data= FinalData2, hue = \"Class\")\n",
    "\n",
    "plt.subplot(1, 2, 2)\n",
    "plt.title(\"After removing outliers for column V4\")\n",
    "ax = sns.boxplot(x=\"Class\", y = \"V4\", data= FinalData, hue = \"Class\")"
   ]
  },
  {
   "cell_type": "code",
   "execution_count": 41,
   "metadata": {},
   "outputs": [
    {
     "data": {
      "image/png": "[encoded data removed]",
      "text/plain": [
       "<Figure size 1152x432 with 2 Axes>"
      ]
     },
     "metadata": {
      "needs_background": "light"
     },
     "output_type": "display_data"
    }
   ],
   "source": [
    "fig = plt.figure(figsize = (16,6))\n",
    "\n",
    "plt.subplot(1, 2, 1)\n",
    "plt.title(\"Before removing outliers for column V5\")\n",
    "ax = sns.boxplot(x=\"Class\", y = \"V5\", data= FinalData2, hue = \"Class\")\n",
    "\n",
    "plt.subplot(1, 2, 2)\n",
    "plt.title(\"After removing outliers for column V5\")\n",
    "ax = sns.boxplot(x=\"Class\", y = \"V5\", data= FinalData, hue = \"Class\")"
   ]
  },
  {
   "cell_type": "markdown",
   "metadata": {},
   "source": [
    "**It can easily be observed in all of the above boxplots corresponding to columns V1, V2, V3, V4, V5, that most of the outliers for points belongs to class 1 has been removed. Furthermore, many of the outliers for points belong to class 0 has also been removed. For example for class 0 in plot 1 for column V1 all of the outliers less than -35 have been removed. Similarly, for class 0 in plot 3 for column V3 all the outliers less than -18 have been removed. Similarly, for class 0 in plot 5 for column V5 all of the outliers greater than 15 have been removed.**"
   ]
  },
  {
   "cell_type": "markdown",
   "metadata": {},
   "source": [
    "### Detecting outliers for 'k' value 5\n",
    "\n",
    "#### We have assumed that 50% of total points in our data set are outliers."
   ]
  },
  {
   "cell_type": "code",
   "execution_count": 42,
   "metadata": {},
   "outputs": [
    {
     "data": {
      "text/html": [
       "<div>\n",
       "<style scoped>\n",
       "    .dataframe tbody tr th:only-of-type {\n",
       "        vertical-align: middle;\n",
       "    }\n",
       "\n",
       "    .dataframe tbody tr th {\n",
       "        vertical-align: top;\n",
       "    }\n",
       "\n",
       "    .dataframe thead th {\n",
       "        text-align: right;\n",
       "    }\n",
       "</style>\n",
       "<table border=\"1\" class=\"dataframe\">\n",
       "  <thead>\n",
       "    <tr style=\"text-align: right;\">\n",
       "      <th></th>\n",
       "      <th>Unnamed: 0</th>\n",
       "      <th>Time</th>\n",
       "      <th>V1</th>\n",
       "      <th>V2</th>\n",
       "      <th>V3</th>\n",
       "      <th>V4</th>\n",
       "      <th>V5</th>\n",
       "      <th>V6</th>\n",
       "      <th>V7</th>\n",
       "      <th>V8</th>\n",
       "      <th>...</th>\n",
       "      <th>V21</th>\n",
       "      <th>V22</th>\n",
       "      <th>V23</th>\n",
       "      <th>V24</th>\n",
       "      <th>V25</th>\n",
       "      <th>V26</th>\n",
       "      <th>V27</th>\n",
       "      <th>V28</th>\n",
       "      <th>Amount</th>\n",
       "      <th>Class</th>\n",
       "    </tr>\n",
       "  </thead>\n",
       "  <tbody>\n",
       "    <tr>\n",
       "      <td>0</td>\n",
       "      <td>127306</td>\n",
       "      <td>78286.0</td>\n",
       "      <td>-1.570460</td>\n",
       "      <td>-0.051664</td>\n",
       "      <td>1.884651</td>\n",
       "      <td>-0.939705</td>\n",
       "      <td>-0.679193</td>\n",
       "      <td>0.141161</td>\n",
       "      <td>-0.543165</td>\n",
       "      <td>1.018808</td>\n",
       "      <td>...</td>\n",
       "      <td>-0.042499</td>\n",
       "      <td>-0.286909</td>\n",
       "      <td>0.049376</td>\n",
       "      <td>0.019796</td>\n",
       "      <td>-0.224265</td>\n",
       "      <td>0.814524</td>\n",
       "      <td>0.132949</td>\n",
       "      <td>0.005025</td>\n",
       "      <td>48.95</td>\n",
       "      <td>0</td>\n",
       "    </tr>\n",
       "    <tr>\n",
       "      <td>1</td>\n",
       "      <td>61919</td>\n",
       "      <td>50049.0</td>\n",
       "      <td>1.077313</td>\n",
       "      <td>0.069079</td>\n",
       "      <td>0.485032</td>\n",
       "      <td>1.345355</td>\n",
       "      <td>-0.263816</td>\n",
       "      <td>0.010919</td>\n",
       "      <td>-0.051173</td>\n",
       "      <td>0.148398</td>\n",
       "      <td>...</td>\n",
       "      <td>-0.034452</td>\n",
       "      <td>0.035873</td>\n",
       "      <td>-0.055862</td>\n",
       "      <td>0.216017</td>\n",
       "      <td>0.578927</td>\n",
       "      <td>-0.341847</td>\n",
       "      <td>0.029478</td>\n",
       "      <td>0.009133</td>\n",
       "      <td>23.68</td>\n",
       "      <td>0</td>\n",
       "    </tr>\n",
       "    <tr>\n",
       "      <td>2</td>\n",
       "      <td>153747</td>\n",
       "      <td>99968.0</td>\n",
       "      <td>-0.551407</td>\n",
       "      <td>1.625713</td>\n",
       "      <td>0.348719</td>\n",
       "      <td>-0.907557</td>\n",
       "      <td>1.845395</td>\n",
       "      <td>-0.483717</td>\n",
       "      <td>2.342642</td>\n",
       "      <td>-1.807167</td>\n",
       "      <td>...</td>\n",
       "      <td>-0.312354</td>\n",
       "      <td>1.274172</td>\n",
       "      <td>-0.304756</td>\n",
       "      <td>0.597497</td>\n",
       "      <td>-0.616562</td>\n",
       "      <td>-0.457962</td>\n",
       "      <td>-0.018697</td>\n",
       "      <td>-0.879917</td>\n",
       "      <td>1.29</td>\n",
       "      <td>0</td>\n",
       "    </tr>\n",
       "    <tr>\n",
       "      <td>3</td>\n",
       "      <td>157216</td>\n",
       "      <td>109715.0</td>\n",
       "      <td>-0.440997</td>\n",
       "      <td>0.818730</td>\n",
       "      <td>1.925260</td>\n",
       "      <td>-0.397963</td>\n",
       "      <td>0.762742</td>\n",
       "      <td>0.518384</td>\n",
       "      <td>0.525002</td>\n",
       "      <td>-0.162991</td>\n",
       "      <td>...</td>\n",
       "      <td>-0.353624</td>\n",
       "      <td>-0.588766</td>\n",
       "      <td>-0.346350</td>\n",
       "      <td>-0.060142</td>\n",
       "      <td>0.404193</td>\n",
       "      <td>-0.719609</td>\n",
       "      <td>-0.085553</td>\n",
       "      <td>-0.144571</td>\n",
       "      <td>11.27</td>\n",
       "      <td>0</td>\n",
       "    </tr>\n",
       "    <tr>\n",
       "      <td>4</td>\n",
       "      <td>44783</td>\n",
       "      <td>42082.0</td>\n",
       "      <td>1.313872</td>\n",
       "      <td>0.328257</td>\n",
       "      <td>-0.291373</td>\n",
       "      <td>0.306360</td>\n",
       "      <td>0.568722</td>\n",
       "      <td>0.216932</td>\n",
       "      <td>0.031462</td>\n",
       "      <td>-0.020081</td>\n",
       "      <td>...</td>\n",
       "      <td>-0.343473</td>\n",
       "      <td>-0.908457</td>\n",
       "      <td>-0.022990</td>\n",
       "      <td>-1.346924</td>\n",
       "      <td>0.357107</td>\n",
       "      <td>0.208395</td>\n",
       "      <td>-0.003123</td>\n",
       "      <td>0.014764</td>\n",
       "      <td>0.99</td>\n",
       "      <td>0</td>\n",
       "    </tr>\n",
       "  </tbody>\n",
       "</table>\n",
       "<p>5 rows × 32 columns</p>\n",
       "</div>"
      ],
      "text/plain": [
       "   Unnamed: 0      Time        V1        V2        V3        V4        V5  \\\n",
       "0      127306   78286.0 -1.570460 -0.051664  1.884651 -0.939705 -0.679193   \n",
       "1       61919   50049.0  1.077313  0.069079  0.485032  1.345355 -0.263816   \n",
       "2      153747   99968.0 -0.551407  1.625713  0.348719 -0.907557  1.845395   \n",
       "3      157216  109715.0 -0.440997  0.818730  1.925260 -0.397963  0.762742   \n",
       "4       44783   42082.0  1.313872  0.328257 -0.291373  0.306360  0.568722   \n",
       "\n",
       "         V6        V7        V8  ...       V21       V22       V23       V24  \\\n",
       "0  0.141161 -0.543165  1.018808  ... -0.042499 -0.286909  0.049376  0.019796   \n",
       "1  0.010919 -0.051173  0.148398  ... -0.034452  0.035873 -0.055862  0.216017   \n",
       "2 -0.483717  2.342642 -1.807167  ... -0.312354  1.274172 -0.304756  0.597497   \n",
       "3  0.518384  0.525002 -0.162991  ... -0.353624 -0.588766 -0.346350 -0.060142   \n",
       "4  0.216932  0.031462 -0.020081  ... -0.343473 -0.908457 -0.022990 -1.346924   \n",
       "\n",
       "        V25       V26       V27       V28  Amount  Class  \n",
       "0 -0.224265  0.814524  0.132949  0.005025   48.95      0  \n",
       "1  0.578927 -0.341847  0.029478  0.009133   23.68      0  \n",
       "2 -0.616562 -0.457962 -0.018697 -0.879917    1.29      0  \n",
       "3  0.404193 -0.719609 -0.085553 -0.144571   11.27      0  \n",
       "4  0.357107  0.208395 -0.003123  0.014764    0.99      0  \n",
       "\n",
       "[5 rows x 32 columns]"
      ]
     },
     "execution_count": 42,
     "metadata": {},
     "output_type": "execute_result"
    }
   ],
   "source": [
    "newData = pd.read_csv(\"NewCreditCard.csv\")\n",
    "\n",
    "newData.head()"
   ]
  },
  {
   "cell_type": "code",
   "execution_count": 43,
   "metadata": {},
   "outputs": [
    {
     "data": {
      "text/html": [
       "<div>\n",
       "<style scoped>\n",
       "    .dataframe tbody tr th:only-of-type {\n",
       "        vertical-align: middle;\n",
       "    }\n",
       "\n",
       "    .dataframe tbody tr th {\n",
       "        vertical-align: top;\n",
       "    }\n",
       "\n",
       "    .dataframe thead th {\n",
       "        text-align: right;\n",
       "    }\n",
       "</style>\n",
       "<table border=\"1\" class=\"dataframe\">\n",
       "  <thead>\n",
       "    <tr style=\"text-align: right;\">\n",
       "      <th></th>\n",
       "      <th>Time</th>\n",
       "      <th>V1</th>\n",
       "      <th>V2</th>\n",
       "      <th>V3</th>\n",
       "      <th>V4</th>\n",
       "      <th>V5</th>\n",
       "      <th>V6</th>\n",
       "      <th>V7</th>\n",
       "      <th>V8</th>\n",
       "      <th>V9</th>\n",
       "      <th>...</th>\n",
       "      <th>V21</th>\n",
       "      <th>V22</th>\n",
       "      <th>V23</th>\n",
       "      <th>V24</th>\n",
       "      <th>V25</th>\n",
       "      <th>V26</th>\n",
       "      <th>V27</th>\n",
       "      <th>V28</th>\n",
       "      <th>Amount</th>\n",
       "      <th>Class</th>\n",
       "    </tr>\n",
       "  </thead>\n",
       "  <tbody>\n",
       "    <tr>\n",
       "      <td>0</td>\n",
       "      <td>78286.0</td>\n",
       "      <td>-1.570460</td>\n",
       "      <td>-0.051664</td>\n",
       "      <td>1.884651</td>\n",
       "      <td>-0.939705</td>\n",
       "      <td>-0.679193</td>\n",
       "      <td>0.141161</td>\n",
       "      <td>-0.543165</td>\n",
       "      <td>1.018808</td>\n",
       "      <td>0.611479</td>\n",
       "      <td>...</td>\n",
       "      <td>-0.042499</td>\n",
       "      <td>-0.286909</td>\n",
       "      <td>0.049376</td>\n",
       "      <td>0.019796</td>\n",
       "      <td>-0.224265</td>\n",
       "      <td>0.814524</td>\n",
       "      <td>0.132949</td>\n",
       "      <td>0.005025</td>\n",
       "      <td>48.95</td>\n",
       "      <td>0</td>\n",
       "    </tr>\n",
       "    <tr>\n",
       "      <td>1</td>\n",
       "      <td>50049.0</td>\n",
       "      <td>1.077313</td>\n",
       "      <td>0.069079</td>\n",
       "      <td>0.485032</td>\n",
       "      <td>1.345355</td>\n",
       "      <td>-0.263816</td>\n",
       "      <td>0.010919</td>\n",
       "      <td>-0.051173</td>\n",
       "      <td>0.148398</td>\n",
       "      <td>0.109534</td>\n",
       "      <td>...</td>\n",
       "      <td>-0.034452</td>\n",
       "      <td>0.035873</td>\n",
       "      <td>-0.055862</td>\n",
       "      <td>0.216017</td>\n",
       "      <td>0.578927</td>\n",
       "      <td>-0.341847</td>\n",
       "      <td>0.029478</td>\n",
       "      <td>0.009133</td>\n",
       "      <td>23.68</td>\n",
       "      <td>0</td>\n",
       "    </tr>\n",
       "    <tr>\n",
       "      <td>2</td>\n",
       "      <td>99968.0</td>\n",
       "      <td>-0.551407</td>\n",
       "      <td>1.625713</td>\n",
       "      <td>0.348719</td>\n",
       "      <td>-0.907557</td>\n",
       "      <td>1.845395</td>\n",
       "      <td>-0.483717</td>\n",
       "      <td>2.342642</td>\n",
       "      <td>-1.807167</td>\n",
       "      <td>3.210068</td>\n",
       "      <td>...</td>\n",
       "      <td>-0.312354</td>\n",
       "      <td>1.274172</td>\n",
       "      <td>-0.304756</td>\n",
       "      <td>0.597497</td>\n",
       "      <td>-0.616562</td>\n",
       "      <td>-0.457962</td>\n",
       "      <td>-0.018697</td>\n",
       "      <td>-0.879917</td>\n",
       "      <td>1.29</td>\n",
       "      <td>0</td>\n",
       "    </tr>\n",
       "    <tr>\n",
       "      <td>3</td>\n",
       "      <td>109715.0</td>\n",
       "      <td>-0.440997</td>\n",
       "      <td>0.818730</td>\n",
       "      <td>1.925260</td>\n",
       "      <td>-0.397963</td>\n",
       "      <td>0.762742</td>\n",
       "      <td>0.518384</td>\n",
       "      <td>0.525002</td>\n",
       "      <td>-0.162991</td>\n",
       "      <td>1.475046</td>\n",
       "      <td>...</td>\n",
       "      <td>-0.353624</td>\n",
       "      <td>-0.588766</td>\n",
       "      <td>-0.346350</td>\n",
       "      <td>-0.060142</td>\n",
       "      <td>0.404193</td>\n",
       "      <td>-0.719609</td>\n",
       "      <td>-0.085553</td>\n",
       "      <td>-0.144571</td>\n",
       "      <td>11.27</td>\n",
       "      <td>0</td>\n",
       "    </tr>\n",
       "    <tr>\n",
       "      <td>4</td>\n",
       "      <td>42082.0</td>\n",
       "      <td>1.313872</td>\n",
       "      <td>0.328257</td>\n",
       "      <td>-0.291373</td>\n",
       "      <td>0.306360</td>\n",
       "      <td>0.568722</td>\n",
       "      <td>0.216932</td>\n",
       "      <td>0.031462</td>\n",
       "      <td>-0.020081</td>\n",
       "      <td>0.005527</td>\n",
       "      <td>...</td>\n",
       "      <td>-0.343473</td>\n",
       "      <td>-0.908457</td>\n",
       "      <td>-0.022990</td>\n",
       "      <td>-1.346924</td>\n",
       "      <td>0.357107</td>\n",
       "      <td>0.208395</td>\n",
       "      <td>-0.003123</td>\n",
       "      <td>0.014764</td>\n",
       "      <td>0.99</td>\n",
       "      <td>0</td>\n",
       "    </tr>\n",
       "  </tbody>\n",
       "</table>\n",
       "<p>5 rows × 31 columns</p>\n",
       "</div>"
      ],
      "text/plain": [
       "       Time        V1        V2        V3        V4        V5        V6  \\\n",
       "0   78286.0 -1.570460 -0.051664  1.884651 -0.939705 -0.679193  0.141161   \n",
       "1   50049.0  1.077313  0.069079  0.485032  1.345355 -0.263816  0.010919   \n",
       "2   99968.0 -0.551407  1.625713  0.348719 -0.907557  1.845395 -0.483717   \n",
       "3  109715.0 -0.440997  0.818730  1.925260 -0.397963  0.762742  0.518384   \n",
       "4   42082.0  1.313872  0.328257 -0.291373  0.306360  0.568722  0.216932   \n",
       "\n",
       "         V7        V8        V9  ...       V21       V22       V23       V24  \\\n",
       "0 -0.543165  1.018808  0.611479  ... -0.042499 -0.286909  0.049376  0.019796   \n",
       "1 -0.051173  0.148398  0.109534  ... -0.034452  0.035873 -0.055862  0.216017   \n",
       "2  2.342642 -1.807167  3.210068  ... -0.312354  1.274172 -0.304756  0.597497   \n",
       "3  0.525002 -0.162991  1.475046  ... -0.353624 -0.588766 -0.346350 -0.060142   \n",
       "4  0.031462 -0.020081  0.005527  ... -0.343473 -0.908457 -0.022990 -1.346924   \n",
       "\n",
       "        V25       V26       V27       V28  Amount  Class  \n",
       "0 -0.224265  0.814524  0.132949  0.005025   48.95      0  \n",
       "1  0.578927 -0.341847  0.029478  0.009133   23.68      0  \n",
       "2 -0.616562 -0.457962 -0.018697 -0.879917    1.29      0  \n",
       "3  0.404193 -0.719609 -0.085553 -0.144571   11.27      0  \n",
       "4  0.357107  0.208395 -0.003123  0.014764    0.99      0  \n",
       "\n",
       "[5 rows x 31 columns]"
      ]
     },
     "execution_count": 43,
     "metadata": {},
     "output_type": "execute_result"
    }
   ],
   "source": [
    "FinalData = newData.drop(\"Unnamed: 0\", axis = 1)\n",
    "\n",
    "FinalData.head()"
   ]
  },
  {
   "cell_type": "code",
   "execution_count": 44,
   "metadata": {},
   "outputs": [
    {
     "data": {
      "text/plain": [
       "(50000, 31)"
      ]
     },
     "execution_count": 44,
     "metadata": {},
     "output_type": "execute_result"
    }
   ],
   "source": [
    "FinalData.shape"
   ]
  },
  {
   "cell_type": "code",
   "execution_count": 45,
   "metadata": {},
   "outputs": [
    {
     "data": {
      "text/plain": [
       "array([-1, -1, -1, ...,  1,  1, -1])"
      ]
     },
     "execution_count": 45,
     "metadata": {},
     "output_type": "execute_result"
    }
   ],
   "source": [
    "lof = LocalOutlierFactor(n_neighbors=5, algorithm='auto', metric='minkowski', p=2, metric_params=None, contamination=0.5, n_jobs=1)\n",
    "\n",
    "outlierArray = lof.fit_predict(FinalData)\n",
    "\n",
    "outlierArray"
   ]
  },
  {
   "cell_type": "markdown",
   "metadata": {},
   "source": [
    "**Here, we got an array, where row corresponding to array element 1 in our dataset is an inlier and row corresponding to array element to -1 in our dataset is an oulier**"
   ]
  },
  {
   "cell_type": "code",
   "execution_count": 46,
   "metadata": {},
   "outputs": [
    {
     "data": {
      "text/plain": [
       "50000"
      ]
     },
     "execution_count": 46,
     "metadata": {},
     "output_type": "execute_result"
    }
   ],
   "source": [
    "len(outlierArray)"
   ]
  },
  {
   "cell_type": "markdown",
   "metadata": {},
   "source": [
    "**Calculating total number of outlier and inliers**"
   ]
  },
  {
   "cell_type": "code",
   "execution_count": 47,
   "metadata": {},
   "outputs": [
    {
     "name": "stdout",
     "output_type": "stream",
     "text": [
      "Total number of outliers = 25000\n",
      "Total number of inliers = 25000\n"
     ]
    }
   ],
   "source": [
    "countOutliers = 0\n",
    "countInliers = 0\n",
    "for i in range(50000):\n",
    "    if outlierArray[i] == -1:\n",
    "        countOutliers += 1\n",
    "    else:\n",
    "        countInliers += 1\n",
    "print(\"Total number of outliers = \"+str(countOutliers))\n",
    "print(\"Total number of inliers = \"+str(countInliers))"
   ]
  },
  {
   "cell_type": "code",
   "execution_count": 48,
   "metadata": {},
   "outputs": [],
   "source": [
    "FinalData2 = FinalData.copy()"
   ]
  },
  {
   "cell_type": "code",
   "execution_count": 49,
   "metadata": {},
   "outputs": [
    {
     "data": {
      "text/plain": [
       "(50000, 31)"
      ]
     },
     "execution_count": 49,
     "metadata": {},
     "output_type": "execute_result"
    }
   ],
   "source": [
    "FinalData2.shape"
   ]
  },
  {
   "cell_type": "markdown",
   "metadata": {},
   "source": [
    "**Removing Outliers**"
   ]
  },
  {
   "cell_type": "code",
   "execution_count": 50,
   "metadata": {},
   "outputs": [
    {
     "data": {
      "text/html": [
       "<div>\n",
       "<style scoped>\n",
       "    .dataframe tbody tr th:only-of-type {\n",
       "        vertical-align: middle;\n",
       "    }\n",
       "\n",
       "    .dataframe tbody tr th {\n",
       "        vertical-align: top;\n",
       "    }\n",
       "\n",
       "    .dataframe thead th {\n",
       "        text-align: right;\n",
       "    }\n",
       "</style>\n",
       "<table border=\"1\" class=\"dataframe\">\n",
       "  <thead>\n",
       "    <tr style=\"text-align: right;\">\n",
       "      <th></th>\n",
       "      <th>Time</th>\n",
       "      <th>V1</th>\n",
       "      <th>V2</th>\n",
       "      <th>V3</th>\n",
       "      <th>V4</th>\n",
       "      <th>V5</th>\n",
       "      <th>V6</th>\n",
       "      <th>V7</th>\n",
       "      <th>V8</th>\n",
       "      <th>V9</th>\n",
       "      <th>...</th>\n",
       "      <th>V21</th>\n",
       "      <th>V22</th>\n",
       "      <th>V23</th>\n",
       "      <th>V24</th>\n",
       "      <th>V25</th>\n",
       "      <th>V26</th>\n",
       "      <th>V27</th>\n",
       "      <th>V28</th>\n",
       "      <th>Amount</th>\n",
       "      <th>Class</th>\n",
       "    </tr>\n",
       "  </thead>\n",
       "  <tbody>\n",
       "    <tr>\n",
       "      <td>3</td>\n",
       "      <td>109715.0</td>\n",
       "      <td>-0.440997</td>\n",
       "      <td>0.818730</td>\n",
       "      <td>1.925260</td>\n",
       "      <td>-0.397963</td>\n",
       "      <td>0.762742</td>\n",
       "      <td>0.518384</td>\n",
       "      <td>0.525002</td>\n",
       "      <td>-0.162991</td>\n",
       "      <td>1.475046</td>\n",
       "      <td>...</td>\n",
       "      <td>-0.353624</td>\n",
       "      <td>-0.588766</td>\n",
       "      <td>-0.346350</td>\n",
       "      <td>-0.060142</td>\n",
       "      <td>0.404193</td>\n",
       "      <td>-0.719609</td>\n",
       "      <td>-0.085553</td>\n",
       "      <td>-0.144571</td>\n",
       "      <td>11.27</td>\n",
       "      <td>0</td>\n",
       "    </tr>\n",
       "    <tr>\n",
       "      <td>11</td>\n",
       "      <td>147939.0</td>\n",
       "      <td>-0.775763</td>\n",
       "      <td>0.113741</td>\n",
       "      <td>-0.478553</td>\n",
       "      <td>-1.308052</td>\n",
       "      <td>0.831466</td>\n",
       "      <td>-0.562981</td>\n",
       "      <td>1.727217</td>\n",
       "      <td>-0.123131</td>\n",
       "      <td>-0.035261</td>\n",
       "      <td>...</td>\n",
       "      <td>0.068166</td>\n",
       "      <td>-0.073262</td>\n",
       "      <td>0.405095</td>\n",
       "      <td>-0.599902</td>\n",
       "      <td>-0.487463</td>\n",
       "      <td>-0.418992</td>\n",
       "      <td>0.106639</td>\n",
       "      <td>0.248902</td>\n",
       "      <td>216.20</td>\n",
       "      <td>0</td>\n",
       "    </tr>\n",
       "    <tr>\n",
       "      <td>13</td>\n",
       "      <td>170199.0</td>\n",
       "      <td>-0.551225</td>\n",
       "      <td>0.813681</td>\n",
       "      <td>0.312986</td>\n",
       "      <td>-1.044273</td>\n",
       "      <td>1.091791</td>\n",
       "      <td>-0.682278</td>\n",
       "      <td>0.933475</td>\n",
       "      <td>0.112966</td>\n",
       "      <td>-0.375703</td>\n",
       "      <td>...</td>\n",
       "      <td>-0.245717</td>\n",
       "      <td>-0.898986</td>\n",
       "      <td>-0.070311</td>\n",
       "      <td>0.612770</td>\n",
       "      <td>-0.250728</td>\n",
       "      <td>0.052700</td>\n",
       "      <td>0.024815</td>\n",
       "      <td>0.141575</td>\n",
       "      <td>1.98</td>\n",
       "      <td>0</td>\n",
       "    </tr>\n",
       "    <tr>\n",
       "      <td>14</td>\n",
       "      <td>148382.0</td>\n",
       "      <td>-0.670461</td>\n",
       "      <td>1.213386</td>\n",
       "      <td>-0.262545</td>\n",
       "      <td>-0.589820</td>\n",
       "      <td>-0.137777</td>\n",
       "      <td>-1.204101</td>\n",
       "      <td>0.593904</td>\n",
       "      <td>0.259391</td>\n",
       "      <td>0.251943</td>\n",
       "      <td>...</td>\n",
       "      <td>-0.251169</td>\n",
       "      <td>-0.717064</td>\n",
       "      <td>0.156777</td>\n",
       "      <td>-0.001495</td>\n",
       "      <td>-0.472961</td>\n",
       "      <td>0.136874</td>\n",
       "      <td>0.095130</td>\n",
       "      <td>0.082630</td>\n",
       "      <td>17.99</td>\n",
       "      <td>0</td>\n",
       "    </tr>\n",
       "    <tr>\n",
       "      <td>15</td>\n",
       "      <td>1216.0</td>\n",
       "      <td>1.231345</td>\n",
       "      <td>-0.023375</td>\n",
       "      <td>-0.333902</td>\n",
       "      <td>0.893327</td>\n",
       "      <td>0.598923</td>\n",
       "      <td>1.089545</td>\n",
       "      <td>-0.172479</td>\n",
       "      <td>0.330924</td>\n",
       "      <td>0.393031</td>\n",
       "      <td>...</td>\n",
       "      <td>-0.178722</td>\n",
       "      <td>-0.395878</td>\n",
       "      <td>-0.274231</td>\n",
       "      <td>-1.746339</td>\n",
       "      <td>0.806781</td>\n",
       "      <td>-0.217701</td>\n",
       "      <td>0.022302</td>\n",
       "      <td>-0.014272</td>\n",
       "      <td>13.99</td>\n",
       "      <td>0</td>\n",
       "    </tr>\n",
       "  </tbody>\n",
       "</table>\n",
       "<p>5 rows × 31 columns</p>\n",
       "</div>"
      ],
      "text/plain": [
       "        Time        V1        V2        V3        V4        V5        V6  \\\n",
       "3   109715.0 -0.440997  0.818730  1.925260 -0.397963  0.762742  0.518384   \n",
       "11  147939.0 -0.775763  0.113741 -0.478553 -1.308052  0.831466 -0.562981   \n",
       "13  170199.0 -0.551225  0.813681  0.312986 -1.044273  1.091791 -0.682278   \n",
       "14  148382.0 -0.670461  1.213386 -0.262545 -0.589820 -0.137777 -1.204101   \n",
       "15    1216.0  1.231345 -0.023375 -0.333902  0.893327  0.598923  1.089545   \n",
       "\n",
       "          V7        V8        V9  ...       V21       V22       V23       V24  \\\n",
       "3   0.525002 -0.162991  1.475046  ... -0.353624 -0.588766 -0.346350 -0.060142   \n",
       "11  1.727217 -0.123131 -0.035261  ...  0.068166 -0.073262  0.405095 -0.599902   \n",
       "13  0.933475  0.112966 -0.375703  ... -0.245717 -0.898986 -0.070311  0.612770   \n",
       "14  0.593904  0.259391  0.251943  ... -0.251169 -0.717064  0.156777 -0.001495   \n",
       "15 -0.172479  0.330924  0.393031  ... -0.178722 -0.395878 -0.274231 -1.746339   \n",
       "\n",
       "         V25       V26       V27       V28  Amount  Class  \n",
       "3   0.404193 -0.719609 -0.085553 -0.144571   11.27      0  \n",
       "11 -0.487463 -0.418992  0.106639  0.248902  216.20      0  \n",
       "13 -0.250728  0.052700  0.024815  0.141575    1.98      0  \n",
       "14 -0.472961  0.136874  0.095130  0.082630   17.99      0  \n",
       "15  0.806781 -0.217701  0.022302 -0.014272   13.99      0  \n",
       "\n",
       "[5 rows x 31 columns]"
      ]
     },
     "execution_count": 50,
     "metadata": {},
     "output_type": "execute_result"
    }
   ],
   "source": [
    "for i in range(50000):\n",
    "    if outlierArray[i] == -1:\n",
    "        FinalData.drop(i, inplace = True)\n",
    "FinalData.head()"
   ]
  },
  {
   "cell_type": "code",
   "execution_count": 51,
   "metadata": {},
   "outputs": [
    {
     "data": {
      "text/plain": [
       "(50000, 31)"
      ]
     },
     "execution_count": 51,
     "metadata": {},
     "output_type": "execute_result"
    }
   ],
   "source": [
    "FinalData2.shape"
   ]
  },
  {
   "cell_type": "code",
   "execution_count": 52,
   "metadata": {},
   "outputs": [
    {
     "data": {
      "text/plain": [
       "(25000, 31)"
      ]
     },
     "execution_count": 52,
     "metadata": {},
     "output_type": "execute_result"
    }
   ],
   "source": [
    "FinalData.shape"
   ]
  },
  {
   "cell_type": "code",
   "execution_count": 53,
   "metadata": {},
   "outputs": [
    {
     "data": {
      "image/png": "[encoded data removed]",
      "text/plain": [
       "<Figure size 1152x432 with 2 Axes>"
      ]
     },
     "metadata": {
      "needs_background": "light"
     },
     "output_type": "display_data"
    }
   ],
   "source": [
    "fig = plt.figure(figsize = (16,6))\n",
    "\n",
    "plt.subplot(1, 2, 1)\n",
    "plt.title(\"Before removing outliers for column V1\")\n",
    "ax = sns.boxplot(x=\"Class\", y = \"V1\", data= FinalData2, hue = \"Class\")\n",
    "\n",
    "plt.subplot(1, 2, 2)\n",
    "plt.title(\"After removing outliers for column V1\")\n",
    "ax = sns.boxplot(x=\"Class\", y = \"V1\", data= FinalData, hue = \"Class\")"
   ]
  },
  {
   "cell_type": "code",
   "execution_count": 54,
   "metadata": {},
   "outputs": [
    {
     "data": {
      "image/png": "[encoded data removed]",
      "text/plain": [
       "<Figure size 1152x432 with 2 Axes>"
      ]
     },
     "metadata": {
      "needs_background": "light"
     },
     "output_type": "display_data"
    }
   ],
   "source": [
    "fig = plt.figure(figsize = (16,6))\n",
    "\n",
    "plt.subplot(1, 2, 1)\n",
    "plt.title(\"Before removing outliers for column V2\")\n",
    "ax = sns.boxplot(x=\"Class\", y = \"V2\", data= FinalData2, hue = \"Class\")\n",
    "\n",
    "plt.subplot(1, 2, 2)\n",
    "plt.title(\"After removing outliers for column V2\")\n",
    "ax = sns.boxplot(x=\"Class\", y = \"V2\", data= FinalData, hue = \"Class\")"
   ]
  },
  {
   "cell_type": "code",
   "execution_count": 55,
   "metadata": {},
   "outputs": [
    {
     "data": {
      "image/png": "[encoded data removed]",
      "text/plain": [
       "<Figure size 1152x432 with 2 Axes>"
      ]
     },
     "metadata": {
      "needs_background": "light"
     },
     "output_type": "display_data"
    }
   ],
   "source": [
    "fig = plt.figure(figsize = (16,6))\n",
    "\n",
    "plt.subplot(1, 2, 1)\n",
    "plt.title(\"Before removing outliers for column V3\")\n",
    "ax = sns.boxplot(x=\"Class\", y = \"V3\", data= FinalData2, hue = \"Class\")\n",
    "\n",
    "plt.subplot(1, 2, 2)\n",
    "plt.title(\"After removing outliers for column V3\")\n",
    "ax = sns.boxplot(x=\"Class\", y = \"V3\", data= FinalData, hue = \"Class\")"
   ]
  },
  {
   "cell_type": "code",
   "execution_count": 56,
   "metadata": {},
   "outputs": [
    {
     "data": {
      "image/png": "[encoded data removed]",
      "text/plain": [
       "<Figure size 1152x432 with 2 Axes>"
      ]
     },
     "metadata": {
      "needs_background": "light"
     },
     "output_type": "display_data"
    }
   ],
   "source": [
    "fig = plt.figure(figsize = (16,6))\n",
    "\n",
    "plt.subplot(1, 2, 1)\n",
    "plt.title(\"Before removing outliers for column V4\")\n",
    "ax = sns.boxplot(x=\"Class\", y = \"V4\", data= FinalData2, hue = \"Class\")\n",
    "\n",
    "plt.subplot(1, 2, 2)\n",
    "plt.title(\"After removing outliers for column V4\")\n",
    "ax = sns.boxplot(x=\"Class\", y = \"V4\", data= FinalData, hue = \"Class\")"
   ]
  },
  {
   "cell_type": "code",
   "execution_count": 57,
   "metadata": {},
   "outputs": [
    {
     "data": {
      "image/png": "[encoded data removed]",
      "text/plain": [
       "<Figure size 1152x432 with 2 Axes>"
      ]
     },
     "metadata": {
      "needs_background": "light"
     },
     "output_type": "display_data"
    }
   ],
   "source": [
    "fig = plt.figure(figsize = (16,6))\n",
    "\n",
    "plt.subplot(1, 2, 1)\n",
    "plt.title(\"Before removing outliers for column V5\")\n",
    "ax = sns.boxplot(x=\"Class\", y = \"V5\", data= FinalData2, hue = \"Class\")\n",
    "\n",
    "plt.subplot(1, 2, 2)\n",
    "plt.title(\"After removing outliers for column V5\")\n",
    "ax = sns.boxplot(x=\"Class\", y = \"V5\", data= FinalData, hue = \"Class\")"
   ]
  },
  {
   "cell_type": "markdown",
   "metadata": {},
   "source": [
    "**It can easily be observed in all of the above boxplots corresponding to columns V1, V2, V3, V4, V5, that most of the outliers for points belongs to class 1 has been removed. Furthermore, many of the outliers for points belong to class 0 has also been removed. For example for class 0 in plot 1 for column V1 all of the outliers less than -17 have been removed. Similarly, for class 0 in plot 3 for column V3 all the outliers less than -15 have been removed. Similarly, for class 0 in plot 5 for column V5 all of the outliers greater than 8.5 have been removed.**"
   ]
  },
  {
   "cell_type": "markdown",
   "metadata": {},
   "source": [
    "**In conclusion, for k = 5 more outliers have been removed as compared to k = 2 or 3. Therefore, k = 5 is the best value for number of neighbors.**"
   ]
  }
 ],
 "metadata": {
  "kernelspec": {
   "display_name": "Python 3",
   "language": "python",
   "name": "python3"
  },
  "language_info": {
   "codemirror_mode": {
    "name": "ipython",
    "version": 3
   },
   "file_extension": ".py",
   "mimetype": "text/x-python",
   "name": "python",
   "nbconvert_exporter": "python",
   "pygments_lexer": "ipython3",
   "version": "3.7.4"
  }
 },
 "nbformat": 4,
 "nbformat_minor": 2
}
